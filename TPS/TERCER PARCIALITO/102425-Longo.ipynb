{
 "cells": [
  {
   "cell_type": "code",
   "execution_count": 1,
   "metadata": {},
   "outputs": [],
   "source": [
    "import pandas as pd\n",
    "import networkx as nx\n",
    "import matplotlib.pyplot as plt\n",
    "import matplotlib.colors as mcolors\n",
    "from numpy import linalg as LA\n",
    "from collections import defaultdict\n",
    "import numpy as np\n",
    "import random\n",
    "from graphrole import RecursiveFeatureExtractor, RoleExtractor\n",
    "import multiprocessing as mp\n",
    "import itertools\n",
    "from numpy import linalg as LA\n",
    "from os import cpu_count\n",
    "import time"
   ]
  },
  {
   "cell_type": "markdown",
   "metadata": {},
   "source": [
    "*Ejercicio 1*\n",
    "\n",
    "Se quiere convocar a una elección a la que se presentan 4 candidatos (A, B, C y D). Hay 3 votantes del jurado que tienen sus siguientes rankings individuales:\n",
    "\n",
    "• Jurado 1: B -> C -> D -> A\n",
    "\n",
    "• Jurado 2: C -> D -> A -> B\n",
    "\n",
    "• Jurado 3: D -> A -> B -> C\n",
    "\n",
    "a. ¿Quién ganaría por eliminación iterativa?\n",
    "\n",
    "b. ¿Quién ganaría por Borda rule?\n",
    "\n",
    "c. Suponé que estás a cargo de definir las reglas/formato de la votación, y sos un miembro corrupto que desea que si o si gane la alternativa A (te asegura favores si logra ganar la elección). Definir (si existe) un sistema de votación en el cual A resulte ganador de la elección. En caso de no existir, explicar por qué. ¿Cuál propiedad deseable de los sistemas de votación no se está cumpliendo si, efectivamente, ganara A?\n"
   ]
  },
  {
   "cell_type": "markdown",
   "metadata": {},
   "source": [
    "a) Veo que en este caso no tiene sentido hacer el codigo ya que los candidatos B, C y D obtienen 1 punto cada uno por parte de los votantes del jurado. En este caso habria empate en la eleccion y habria que desempatar de alguna manera."
   ]
  },
  {
   "cell_type": "markdown",
   "metadata": {},
   "source": [
    "b) Programo el algoritmo de Borda Rule para encontrar al ganador."
   ]
  },
  {
   "cell_type": "code",
   "execution_count": 2,
   "metadata": {},
   "outputs": [
    {
     "name": "stdout",
     "output_type": "stream",
     "text": [
      "El ganador es el candidato D\n"
     ]
    }
   ],
   "source": [
    "# precondicion: todos los jurados votaron a todos los candidatos.\n",
    "\n",
    "jurado_1 = ['B','C','D','A']\n",
    "jurado_2 = ['C','D','A','B']\n",
    "jurado_3 = ['D','A','B','C']\n",
    "\n",
    "jurados = []\n",
    "jurados.append(jurado_1)\n",
    "jurados.append(jurado_2)\n",
    "jurados.append(jurado_3)\n",
    "\n",
    "def borda_rule(jurados, largo):\n",
    "    votos_A = 0\n",
    "    votos_B = 0\n",
    "    votos_C = 0\n",
    "    votos_D = 0\n",
    "    \n",
    "    for i in range(len(jurados)):\n",
    "        for j in range(largo):\n",
    "                if jurados[i][j] == 'A':\n",
    "                    votos_A += ((largo - 1) - j)\n",
    "                if jurados[i][j] == 'B':\n",
    "                    votos_B += ((largo - 1) - j)\n",
    "                if jurados[i][j] == 'C':\n",
    "                    votos_C += ((largo - 1) - j)\n",
    "                if jurados[i][j] == 'D':\n",
    "                    votos_D += ((largo - 1) - j)\n",
    "    \n",
    "    dict_final = {}\n",
    "    dict_final[votos_A] = 'A'\n",
    "    dict_final[votos_B] = 'B'\n",
    "    dict_final[votos_C] = 'C'\n",
    "    dict_final[votos_D] = 'D'\n",
    "    \n",
    "    if  (votos_A != votos_B) and (votos_A != votos_C) and (votos_A != votos_D)\\\n",
    "    and (votos_B != votos_C) and (votos_B != votos_D) and (votos_D != votos_C):\n",
    "        print(\"El ganador es el candidato\", dict_final.get(max(votos_A, votos_B, votos_C, votos_D)))\n",
    "    else:\n",
    "        print(\"El criterio devuelve un empate\")\n",
    "            \n",
    "borda_rule(jurados, len(jurados[0]))        "
   ]
  },
  {
   "cell_type": "markdown",
   "metadata": {},
   "source": [
    "c) Para que gane A, lo que se puede hacer es un sistema de votacion de eliminaciones sucesivas pero en orden alfabeticamente inverso. En el primer paso, se compararia el candidato D con el C, donde este ultimo ganara. Luego, se comparara con B al ganador y sera B quien se lleve la victoria. Llegando asi, al ultimo paso donde se enfrentan B y A y se obtendra al candidato A como el ganador de la votacion.\n",
    "\n",
    "La propiedad que no se estaría cumpliendo es que un sistema de votacion debe ser *Pareto-Eficiente*. Esto significa que si todos los jueces estan de acuerdo en el orden relativo de preferencia de dos alternativas, el sistema de votacion debe elegir ese mismo orden. Entonces, al estar cumpliendose en todos los casos que el candidato D esta siendo preferido antes que el candidato A, el orden se respetaria y el sistema nunca dejaria que gane ese candidato. "
   ]
  },
  {
   "cell_type": "markdown",
   "metadata": {},
   "source": [
    "*Ejercicio 2*\n",
    "\n",
    "Considerando el modelo de cascadas de información visto en clase, supongamos que hay una nueva tecnología que los\n",
    "individuos pueden optar por aceptar o rechazar. Supongamos que cada uno que acepta la tecnología recibe una ganancia\n",
    "positiva o negativa (sin conocerla a priori). Estos valores son aleatorios para cada nodo, y si la tecnología es “Buena”,\n",
    "entonces el promedio será positivo, y si la tecnología es “Mala” el promedio será negativo (esta información es conocida\n",
    "por los individuos). Quienes rechacen la tecnología reciben ganancia 0. En este modelo, cuando a un individuo le toca\n",
    "elegir si acepta o rechaza la nueva tecnología, recibe la información de las ganancias de todos los que vinieron antes.\n",
    "\n",
    "a. Supongamos que esta nueva tecnología es, en realidad, “Mala”. ¿Cómo afecta esta nueva información (qué ganancia\n",
    "tuvo cada uno de los que vinieron antes) a la potencial formación de una cascada para que persista la nueva\n",
    "tecnología? (No es necesario dar una demostración, simplemente argumentar)\n",
    "\n",
    "b. Supongamos que esta nueva tecnología es, en realidad, “Buena”. ¿Puede surgir una cascada de rechazo de esta\n",
    "nueva tecnología?"
   ]
  },
  {
   "cell_type": "markdown",
   "metadata": {},
   "source": [
    "a) Al conocer que esta nueva tecnologia es \"Mala\" se puede determinar que cada vez que venga un individuo nuevo a adquirirla este tendera a rechazarla. Esto se debe a que la persona preferira no arriesgarse a perder dinero con la nueva tecnologia viendo que, en promedio, las ganancias de los acredores previos de la tecnologia fueron negativas.\n",
    "En conclusion, la tecnologia no persistira ya que cada persona antes de tomar la decision se basara en el promedio de las ganancias.\n",
    "\n",
    "b) Si la tecnologia es \"Buena\" es muy probable que no se genere una cascada de rechazo. Ya que ahora depende puramente en lo que piensa el sujeto sobre las tecnologias. Lo que sucede tambien es que el aceptar esta claramente influenciado por los resultados de los demas, ya que al ver que los demas obtuvieron ganancias aceptando tenderan a repetir el comportamiento en busca de las mismas ganancias."
   ]
  },
  {
   "cell_type": "markdown",
   "metadata": {},
   "source": [
    "*Ejercicio 3*\n",
    "\n",
    "Considerá la siguiente red, suponiendo que todos los nodos tienen inicialmente un comportamiento B. Cada nodo puede\n",
    "cambiar al comportamiento A si al menos la mitad de sus vecinos tiene dicho comportamiento.\n",
    "\n",
    "a. Supongamos que los nodos E y F son early adopters del comportamiento A. Si los demás nodos siguen la regla del\n",
    "umbral (threshold) para adherir a este nuevo comportamiento, ¿qué nodos implementarían el comportamiento A?\n",
    "\n",
    "b. Explicar a qué se debe que el comportamiento A no se propaga a través de toda la red en el escenario del punto\n",
    "(a). ¿Qué característica de la red lo impide? (responder a esta pregunta no apuntando a nodos particulares sino a\n",
    "presencias de ciertas características) ¿Dónde más tendría que haber otro early adopter de A sí o sí para que el\n",
    "comportamiento se propague a través de toda la red?"
   ]
  },
  {
   "cell_type": "markdown",
   "metadata": {},
   "source": [
    "a) Si se marcan en rojo los nodos que se adhieren al comportamiento de A, la red quedaria:\n",
    "\n",
    "![Esta es una imagen de ejemplo](https://drscdn.500px.org/photo/1051099373/m%3D256/v2?sig=914fe51bde7b88fe33989dbfd14603f6b59ea3abcc80e45bc282c07bbbd8ec7d)\n",
    "\n",
    "I, K y C se adhieren ya que tienen mas de la mitad de los nodos adyacentes con el comportamiento A. J y G no llegan a esa condicion por lo que se quedan con su comportamiento anterior."
   ]
  },
  {
   "cell_type": "markdown",
   "metadata": {},
   "source": [
    "b) Lo que pasa en este caso es que a la cascada se le dificulta \"salir\" de la comunidad de la izquierda, que esta densamente conectada. \n",
    "Dicha comunidad esta conectada con la de la derecha mediante los nodos G y K (K no pertenece a ninguna de las dos comunidades) mediante lazos debiles, los cuales son muy buenos para transmitir informacion sobre un comportamiento pero son debiles para trasmitir el comportamiento en si. Por lo que la comunidad de la derecha nunca obtendra el comportamiento de la otra comunidad salvo que haya nodos internamente en ella que comienzen con él.\n",
    "\n",
    "Para que el comportamiento se propague por toda la red, deben haber early adopters en la otra comunidad. Por ejemplo, si el nodo J es un early adapter el comportamiento se propagara.\n",
    "\n",
    "![Esta es una imagen de ejemplo](https://drscdn.500px.org/photo/1051099375/m%3D900/v2?sig=a85005f1d5e3601094753481de60a2e780385b6ca8fda9f7f3b23069d91ed321)\n",
    "\n",
    "Esto generara que los demas nodos que quedaron sin \"contagiarse\" consigan un treashold mayor o igual a 0.5 y puedan adoptar el comportamiento A. Finalmente la red quedaria asi\n",
    "\n",
    "![Esta es una imagen de ejemplo](https://drscdn.500px.org/photo/1051099377/m%3D900/v2?sig=735def8be6fe4807ecbfd9a74c04e06328d9e8be6d19eefdcc8c9af1fd86cb24)\n",
    "\n",
    "![Esta es una imagen de ejemplo](https://drscdn.500px.org/photo/1051099374/m%3D900/v2?sig=3d89e6365889135d373f0f7535c9c16155b7669bb60b9861985e20a648d9c715)\n",
    "\n",
    "![Esta es una imagen de ejemplo](https://drscdn.500px.org/photo/1051099371/m%3D900/v2?sig=5c8220589bc49b95ad63fd5ffc6936e415c5e489d11bc0bb32745d60bb0305b4)"
   ]
  },
  {
   "cell_type": "markdown",
   "metadata": {},
   "source": [
    "*Ejercicio 4*\n",
    "\n",
    "Tenemos dos grafos no dirigidos G1 y G2, con la misma cantidad de vértices y aristas. G1 es un grafo aleatorio de\n",
    "Erdös-Rényi, mientras G2 es un grafo que cumple la ley de potencias en la distribución de los grados. Consideremos un\n",
    "virus que comienza en un único vértice aleatorio y se expande según el modelo SIR.\n",
    "\n",
    "a. ¿En cuál grafo es más probable que ocurra una epidemia (i.e. se infecte al menos un 30% de la red)? Justificar\n",
    "brevemente la respuesta.\n",
    "\n",
    "b. Supongamos que en vez de comenzar en un vértice aleatorio, la epidemia comenzara en el vértice de mayor grado de\n",
    "G1 y G2, respectivamente. ¿En cuál de los grafos es más probable que ocurra una epidemia? Justificar brevemente\n",
    "la respuesta.\n",
    "\n",
    "c. ¿Cómo afecta la existencia (o no existencia) de comunidades en la expansión de la epidemia?"
   ]
  },
  {
   "cell_type": "markdown",
   "metadata": {},
   "source": [
    "a) El grafo que tiene mas probabilidad de que se infecte el 30% de la red es la red aleatoria G1. Ya que las redes que cumplen con la red de potencias son mucho mas robustas y se \"bancan\" mas un ataque aleatorio.\n",
    "\n",
    "c) Si en una red existen comunidades se podra decir que el nivel de contagio aumentara, ya que todos los elementos que la componen estan muy conectados entre si. Pero por otro lado, si estas comunidades no estan muy conectadas entre si y se aisla a las comunidades infectadas estas no lograran contagiar a las demas. Por lo que esto seria un aspecto positivo de la existencia de comunidades."
   ]
  },
  {
   "cell_type": "markdown",
   "metadata": {},
   "source": [
    "*Ejercicio 5*\n",
    "\n",
    "Aplicar el Algoritmo REV2 al siguiente set de datos de reviews de productos de Amazon, para detectar potenciales\n",
    "usuarios maliciosos y otros ciertamente honestos. Por simplificación (y unificación de criterios), considerar γ1 = γ2 = 0.5.\n",
    "Obtener aquellos usuarios cuya justicia (fairness) es menor o igual a 0.2 (son maliciosos) y tienen al menos 5 reviews,\n",
    "así como la proporción de nodos que son extremadamente justos: aquellos con justicia mayor o igual a 0.9, y con al\n",
    "menos 10 reviews (aristas de salida)."
   ]
  },
  {
   "cell_type": "code",
   "execution_count": 3,
   "metadata": {},
   "outputs": [],
   "source": [
    "# Obtengo el set de datos\n",
    "\n",
    "amazon = pd.read_csv(\"ratings_electronics.csv\")\n",
    "amazon = amazon.rename(columns={'AKM1MP6P0OYPR':'user_id', '0132793040': 'product_id',\\\n",
    "                                '5.0': 'rating', '1365811200':'timestamp'})\n",
    "amazon = amazon.drop(['timestamp'], axis=1)"
   ]
  },
  {
   "cell_type": "code",
   "execution_count": 4,
   "metadata": {},
   "outputs": [],
   "source": [
    "vector_amazon = amazon.to_numpy()"
   ]
  },
  {
   "cell_type": "code",
   "execution_count": 5,
   "metadata": {},
   "outputs": [],
   "source": [
    "# cambio puntaje por rango del score, debe pertenecer a [-1, 1]\n",
    "for e in vector_amazon:\n",
    "    e[2] = ((e[2] - 3) / 2)"
   ]
  },
  {
   "cell_type": "code",
   "execution_count": 6,
   "metadata": {},
   "outputs": [],
   "source": [
    "grado_salida_producto = {}\n",
    "grado_salida_usuario = {}\n",
    "\n",
    "for i in range(len(vector_amazon)):\n",
    "    if grado_salida_usuario.get(vector_amazon[i][0]):\n",
    "        grado_salida_usuario[vector_amazon[i][0]] += 1\n",
    "    else:\n",
    "        grado_salida_usuario[vector_amazon[i][0]] = 1\n",
    "    \n",
    "    if grado_salida_producto.get(vector_amazon[i][1]):\n",
    "        grado_salida_producto[vector_amazon[i][1]] += 1\n",
    "    else:\n",
    "        grado_salida_producto[vector_amazon[i][1]] = 1\n",
    "        \n",
    "def obtener_grado_salida(key, char):\n",
    "    if char == 'u':\n",
    "        return grado_salida_usuario.get(key)\n",
    "    else:\n",
    "        return grado_salida_producto.get(key)"
   ]
  },
  {
   "cell_type": "code",
   "execution_count": 7,
   "metadata": {},
   "outputs": [],
   "source": [
    "# producto-> { key: nombre_producto, value: {int grado_salida, int gain, [] usuarios_calificadores} }\n",
    "# usuario-> { key: nombre_usuario, value: {int grado_salida, int fairness, [] productos_calificados} }\n",
    "# usuario_producto-> { key: usuario+producto, value: {int RUP, int score, string usuario, string producto} }\n",
    "\n",
    "producto = {}\n",
    "usuario = {}\n",
    "usuario_producto = {}\n",
    "\n",
    "for i in range(len(vector_amazon)):\n",
    "    #----------------------PRODUCTO-------------------------#\n",
    "    p = {'grado_salida': 0, 'gain': 1, 'usuarios_calificadores': []}\n",
    "    \n",
    "    p['grado_salida'] = obtener_grado_salida(vector_amazon[i][1], 'p')\n",
    "    if producto.get(vector_amazon[i][1]):\n",
    "            producto.get(vector_amazon[i][1])['usuarios_calificadores'].append(vector_amazon[i][0])\n",
    "    else:\n",
    "        producto[vector_amazon[i][1]] = p\n",
    "        producto.get(vector_amazon[i][1])['usuarios_calificadores'].append(vector_amazon[i][0])\n",
    "    #----------------------USUARIO-------------------------#\n",
    "    u = {'grado_salida': 0, 'fairness': 1, 'productos_calificados': []}\n",
    "    \n",
    "    u['grado_salida'] = obtener_grado_salida(vector_amazon[i][0], 'u')\n",
    "    if usuario.get(vector_amazon[i][0]):\n",
    "            usuario.get(vector_amazon[i][0])['productos_calificados'].append(vector_amazon[i][1])\n",
    "    else:\n",
    "        usuario[vector_amazon[i][0]] = u\n",
    "        usuario.get(vector_amazon[i][0])['productos_calificados'].append(vector_amazon[i][1])\n",
    "    #----------------------USUARIO_PRODUCTO-------------------------#\n",
    "    up = {'RUP': 1, 'score': 0, 'usuario': '', 'producto': ''}\n",
    "    \n",
    "    up['usuario']=vector_amazon[i][0]\n",
    "    up['producto']=vector_amazon[i][1]\n",
    "    up['score'] = vector_amazon[i][2]\n",
    "    usuario_producto[vector_amazon[i][0]+vector_amazon[i][1]] = up"
   ]
  },
  {
   "cell_type": "code",
   "execution_count": 8,
   "metadata": {},
   "outputs": [
    {
     "name": "stdout",
     "output_type": "stream",
     "text": [
      "Se realizo la iteracion numero 0\n",
      "Se realizo la iteracion numero 1\n",
      "Se realizo la iteracion numero 2\n",
      "Se realizo la iteracion numero 3\n",
      "Se realizo la iteracion numero 4\n",
      "Se realizo la iteracion numero 5\n",
      "Se realizo la iteracion numero 6\n",
      "Se realizo la iteracion numero 7\n",
      "Se realizo la iteracion numero 8\n",
      "Se realizo la iteracion numero 9\n",
      "Se realizo la iteracion numero 10\n"
     ]
    }
   ],
   "source": [
    "def obtener_usuarios_maliciosos():\n",
    "    iteraciones = 0\n",
    "    while (iteraciones < 11):\n",
    "        # --------------------------------------------------------------------------------------------\n",
    "        # El fu lo actualizo con (la sumatoria de Rup (variando p)) / (el grado de salida del usuario)\n",
    "        # --------------------------------------------------------------------------------------------\n",
    "        for u, value_u in usuario.items():\n",
    "            sumatoria_rup = 0\n",
    "            for p in range(len(value_u.get('productos_calificados'))):\n",
    "                sumatoria_rup += usuario_producto.get(u+value_u.get('productos_calificados')[p])['RUP']\n",
    "            value_u['fairness'] = sumatoria_rup / obtener_grado_salida(u, 'u')    \n",
    "        # -----------------------------------------------------------------------\n",
    "        # El gp lo actualizo con (la sumatoria de Rup (variando u) * score) / (cantidad de usuarios que vieron ese producto)\n",
    "        # -----------------------------------------------------------------------\n",
    "        for p, value_p in producto.items():\n",
    "            sumatoria_rup_por_score = 0\n",
    "            for u in range(len(value_p.get('usuarios_calificadores'))):\n",
    "                sumatoria_rup_por_score += (usuario_producto.get(value_p.get('usuarios_calificadores')[u]+p)['RUP'] * usuario_producto.get(value_p.get('usuarios_calificadores')[u]+p)['score'])\n",
    "            value_p['gain'] = sumatoria_rup_por_score / obtener_grado_salida(p, 'p')\n",
    "        # -----------------------------------------------------------------------\n",
    "        # El rup se actualiza como (0.5 * Fu + 0.5(1 - (|score - Gp|)/2))\n",
    "        # -----------------------------------------------------------------------\n",
    "        for up, value_up in usuario_producto.items():\n",
    "            value_up['RUP'] =   ( 0.5 * usuario.get(value_up['usuario'])['fairness'] \\\n",
    "                                + 0.5 * (1 - (np.abs(value_up['score'] - producto.get(value_up['producto'])['gain'])/2)) )\n",
    "\n",
    "        print(\"Se realizo la iteracion numero\", iteraciones)\n",
    "        iteraciones += 1\n",
    "    \n",
    "obtener_usuarios_maliciosos()"
   ]
  },
  {
   "cell_type": "code",
   "execution_count": 10,
   "metadata": {},
   "outputs": [
    {
     "name": "stdout",
     "output_type": "stream",
     "text": [
      "Los usuarios maliciosos son: ['A2G4GBZBU0191J']\n",
      "El porcentaje de usuarios extremadamente justos es: 0.009876963968835441\n"
     ]
    }
   ],
   "source": [
    "usuarios_maliciosos = []\n",
    "usuarios_buenitos = []\n",
    "\n",
    "for u, value_u in usuario.items():\n",
    "    if (value_u['fairness'] <= 0.2) and (value_u['grado_salida'] >= 5):\n",
    "        usuarios_maliciosos.append(u)\n",
    "\n",
    "for u, value_u in usuario.items():\n",
    "    if value_u['fairness'] > 0.9 and (value_u['grado_salida'] >= 10):\n",
    "        usuarios_buenitos.append(u)\n",
    "\n",
    "print(\"Los usuarios maliciosos son:\", usuarios_maliciosos)\n",
    "print(\"El porcentaje de usuarios extremadamente justos es:\", len(usuarios_buenitos) / len(usuario) * 100)"
   ]
  }
 ],
 "metadata": {
  "kernelspec": {
   "display_name": "Python 3",
   "language": "python",
   "name": "python3"
  },
  "language_info": {
   "codemirror_mode": {
    "name": "ipython",
    "version": 3
   },
   "file_extension": ".py",
   "mimetype": "text/x-python",
   "name": "python",
   "nbconvert_exporter": "python",
   "pygments_lexer": "ipython3",
   "version": "3.8.10"
  },
  "vscode": {
   "interpreter": {
    "hash": "916dbcbb3f70747c44a77c7bcd40155683ae19c65e1c03b4aa3499c5328201f1"
   }
  }
 },
 "nbformat": 4,
 "nbformat_minor": 4
}
