{
 "cells": [
  {
   "cell_type": "code",
   "execution_count": 1,
   "id": "ee1f6d62",
   "metadata": {},
   "outputs": [],
   "source": [
    "import pandas as pd\n",
    "import networkx as nx\n",
    "import matplotlib.pyplot as plt\n",
    "import matplotlib.colors as mcolors\n",
    "from numpy import linalg as LA\n",
    "from collections import defaultdict\n",
    "import numpy as np\n",
    "import random\n",
    "from graphrole import RecursiveFeatureExtractor, RoleExtractor\n",
    "import multiprocessing as mp\n",
    "import itertools\n",
    "from numpy import linalg as LA\n",
    "from os import cpu_count\n",
    "import time"
   ]
  },
  {
   "cell_type": "code",
   "execution_count": 2,
   "id": "b18cef2c",
   "metadata": {},
   "outputs": [],
   "source": [
    "# Obtengo el set de datos\n",
    "\n",
    "amazon = pd.read_csv(\"ratings_electronics.csv\")\n",
    "amazon = amazon.rename(columns={'AKM1MP6P0OYPR':'user_id', '0132793040': 'product_id',\\\n",
    "                                '5.0': 'rating', '1365811200':'timestamp'})\n",
    "amazon = amazon.drop(['timestamp'], axis=1)"
   ]
  },
  {
   "cell_type": "code",
   "execution_count": 3,
   "id": "215a2031",
   "metadata": {},
   "outputs": [
    {
     "data": {
      "text/plain": [
       "array([['A2CX7LUOHB2NDG', '0321732944', 5.0],\n",
       "       ['A2NWSAGRHCP8N5', '0439886341', 1.0],\n",
       "       ['A2WNBOD3WNDNKT', '0439886341', 3.0],\n",
       "       ...,\n",
       "       ['A1MH90R0ADMIK0', 'BT008UKTMW', 4.0],\n",
       "       ['A10M2KEFPEQDHN', 'BT008UKTMW', 4.0],\n",
       "       ['A2G81TMIOIDEQQ', 'BT008V9J9U', 5.0]], dtype=object)"
      ]
     },
     "execution_count": 3,
     "metadata": {},
     "output_type": "execute_result"
    }
   ],
   "source": [
    "vector_amazon = amazon.to_numpy()\n",
    "vector_amazon"
   ]
  },
  {
   "cell_type": "code",
   "execution_count": 4,
   "id": "c9c02a4e",
   "metadata": {},
   "outputs": [],
   "source": [
    "# cambio puntaje por rango del score, debe pertenecer a [-1, 1]\n",
    "for e in vector_amazon:\n",
    "    e[2] = ((e[2] - 3) / 2)"
   ]
  },
  {
   "cell_type": "code",
   "execution_count": 5,
   "id": "3fbca9fa",
   "metadata": {},
   "outputs": [],
   "source": [
    "grado_salida_producto = {}\n",
    "\n",
    "for i in range(len(vector_amazon)):\n",
    "    if grado_salida_producto.get(vector_amazon[i][1]):\n",
    "        grado_salida_producto[vector_amazon[i][1]] += 1\n",
    "    else:\n",
    "        grado_salida_producto[vector_amazon[i][1]] = 1\n",
    "        \n",
    "def obtener_grado_salida(key):\n",
    "    return grado_salida_producto.get(key)"
   ]
  },
  {
   "cell_type": "code",
   "execution_count": 10,
   "id": "9adac081",
   "metadata": {},
   "outputs": [],
   "source": [
    "# producto-> { key: nombre_producto, value: {int grado_salida, int gain} }\n",
    "# usuario-> { key: nombre_usuario, value: {int fairness, [] productos_calificados} }\n",
    "# usuario_producto-> { key: usuario+producto, value: {int RUP, int score} }\n",
    "\n",
    "producto = {}\n",
    "usuario = {}\n",
    "usuario_producto = {}\n",
    "\n",
    "for i in range(len(vector_amazon)):\n",
    "    #----------------------PRODUCTO-------------------------#\n",
    "    p = {'grado_salida': 0, 'gain': 0}\n",
    "    \n",
    "    p['grado_salida'] = obtener_grado_salida(vector_amazon[i][1])\n",
    "    p['gain'] = 1\n",
    "        \n",
    "    producto[vector_amazon[i][1]] = p\n",
    "    #----------------------USUARIO-------------------------#\n",
    "    u = {'fairness': 1, 'productos_calificados': []}\n",
    "    \n",
    "    if usuario.get(vector_amazon[i][0]):\n",
    "            usuario.get(vector_amazon[i][0])['productos_calificados'].append(vector_amazon[i][1])\n",
    "    else:\n",
    "        usuario[vector_amazon[i][0]] = u\n",
    "        usuario.get(vector_amazon[i][0])['productos_calificados'].append(vector_amazon[i][1])\n",
    "    #----------------------USUARIO_PRODUCTO-------------------------#\n",
    "    up = {'RUP': 1, 'score': 0}\n",
    "    \n",
    "    up['score'] = vector_amazon[i][2]\n",
    "    usuario_producto[vector_amazon[i][0]+vector_amazon[i][1]] = up"
   ]
  },
  {
   "cell_type": "code",
   "execution_count": null,
   "id": "f1f2652f",
   "metadata": {},
   "outputs": [],
   "source": []
  }
 ],
 "metadata": {
  "kernelspec": {
   "display_name": "Python 3",
   "language": "python",
   "name": "python3"
  },
  "language_info": {
   "codemirror_mode": {
    "name": "ipython",
    "version": 3
   },
   "file_extension": ".py",
   "mimetype": "text/x-python",
   "name": "python",
   "nbconvert_exporter": "python",
   "pygments_lexer": "ipython3",
   "version": "3.8.10"
  }
 },
 "nbformat": 4,
 "nbformat_minor": 5
}
