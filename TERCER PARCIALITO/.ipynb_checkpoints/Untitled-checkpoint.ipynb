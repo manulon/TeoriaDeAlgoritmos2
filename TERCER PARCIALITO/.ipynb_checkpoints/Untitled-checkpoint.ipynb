{
 "cells": [
  {
   "cell_type": "code",
   "execution_count": 7,
   "metadata": {},
   "outputs": [],
   "source": [
    "import pandas as pd\n",
    "import networkx as nx\n",
    "import matplotlib.pyplot as plt\n",
    "import matplotlib.colors as mcolors\n",
    "from numpy import linalg as LA\n",
    "from collections import defaultdict\n",
    "import numpy as np\n",
    "import random\n",
    "from graphrole import RecursiveFeatureExtractor, RoleExtractor\n",
    "import multiprocessing as mp\n",
    "import itertools\n",
    "from numpy import linalg as LA\n",
    "from os import cpu_count\n",
    "import time"
   ]
  },
  {
   "cell_type": "markdown",
   "metadata": {},
   "source": [
    "*Ejercicio 1*\n",
    "\n",
    "Se quiere convocar a una elección a la que se presentan 4 candidatos (A, B, C y D). Hay 3 votantes del jurado que tienen sus siguientes rankings individuales:\n",
    "\n",
    "• Jurado 1: B -> C -> D -> A\n",
    "\n",
    "• Jurado 2: C -> D -> A -> B\n",
    "\n",
    "• Jurado 3: D -> A -> B -> C\n",
    "\n",
    "a. ¿Quién ganaría por eliminación iterativa?\n",
    "\n",
    "b. ¿Quién ganaría por Borda rule?\n",
    "\n",
    "c. Suponé que estás a cargo de definir las reglas/formato de la votación, y sos un miembro corrupto que desea que si o si gane la alternativa A (te asegura favores si logra ganar la elección). Definir (si existe) un sistema de votación en el cual A resulte ganador de la elección. En caso de no existir, explicar por qué. ¿Cuál propiedad deseable de los sistemas de votación no se está cumpliendo si, efectivamente, ganara A?\n"
   ]
  },
  {
   "cell_type": "markdown",
   "metadata": {},
   "source": [
    "a) Veo que en este caso no tiene sentido hacer el codigo ya que los candidatos B, C y D obtienen 1 punto cada uno por parte de los votantes del jurado. En este caso habria empate en la eleccion y habria que desempatar de alguna manera."
   ]
  },
  {
   "cell_type": "markdown",
   "metadata": {},
   "source": [
    "b) Programo el algoritmo de Borda Rule para encontrar al ganador."
   ]
  },
  {
   "cell_type": "code",
   "execution_count": 8,
   "metadata": {},
   "outputs": [
    {
     "name": "stdout",
     "output_type": "stream",
     "text": [
      "El ganador es el candidato D\n"
     ]
    }
   ],
   "source": [
    "# precondicion: todos los jurados votaron a todos los candidatos.\n",
    "\n",
    "jurado_1 = ['B','C','D','A']\n",
    "jurado_2 = ['C','D','A','B']\n",
    "jurado_3 = ['D','A','B','C']\n",
    "\n",
    "jurados = []\n",
    "jurados.append(jurado_1)\n",
    "jurados.append(jurado_2)\n",
    "jurados.append(jurado_3)\n",
    "\n",
    "def borda_rule(jurados, largo):\n",
    "    votos_A = 0\n",
    "    votos_B = 0\n",
    "    votos_C = 0\n",
    "    votos_D = 0\n",
    "    \n",
    "    for i in range(len(jurados)):\n",
    "        for j in range(largo):\n",
    "                if jurados[i][j] == 'A':\n",
    "                    votos_A += ((largo - 1) - j)\n",
    "                if jurados[i][j] == 'B':\n",
    "                    votos_B += ((largo - 1) - j)\n",
    "                if jurados[i][j] == 'C':\n",
    "                    votos_C += ((largo - 1) - j)\n",
    "                if jurados[i][j] == 'D':\n",
    "                    votos_D += ((largo - 1) - j)\n",
    "    \n",
    "    dict_final = {}\n",
    "    dict_final[votos_A] = 'A'\n",
    "    dict_final[votos_B] = 'B'\n",
    "    dict_final[votos_C] = 'C'\n",
    "    dict_final[votos_D] = 'D'\n",
    "    \n",
    "    if  (votos_A != votos_B) and (votos_A != votos_C) and (votos_A != votos_D)\\\n",
    "    and (votos_B != votos_C) and (votos_B != votos_D) and (votos_D != votos_C):\n",
    "        print(\"El ganador es el candidato\", dict_final.get(max(votos_A, votos_B, votos_C, votos_D)))\n",
    "    else:\n",
    "        print(\"El criterio devuelve un empate\")\n",
    "            \n",
    "borda_rule(jurados, len(jurados[0]))        "
   ]
  },
  {
   "cell_type": "markdown",
   "metadata": {},
   "source": [
    "c) Ninguno de los sistemas de votaciones vistos daria como ganador a el candidato A, ya que A es Pareto-Dominante de D (todos los jueces prefieren al candidato D antes que al A). \n",
    "\n",
    "La propiedad que no se estaría cumpliendo es que un sistema de votacion debe ser *Pareto-Eficiente*. Esto significa que si todos los jueces estan de acuerdo en el orden relativo de preferencia de dos alternativas, el sistema de votacion debe elegir ese mismo orden. Entonces, al estar cumpliendose en todos los casos que el candidato D esta siendo preferido antes que el candidato A, el orden se respetaria y el sistema nunca dejaria que gane ese candidato. "
   ]
  },
  {
   "cell_type": "markdown",
   "metadata": {},
   "source": [
    "*Ejercicio 2*\n",
    "\n",
    "Considerando el modelo de cascadas de información visto en clase, supongamos que hay una nueva tecnología que los\n",
    "individuos pueden optar por aceptar o rechazar. Supongamos que cada uno que acepta la tecnología recibe una ganancia\n",
    "positiva o negativa (sin conocerla a priori). Estos valores son aleatorios para cada nodo, y si la tecnología es “Buena”,\n",
    "entonces el promedio será positivo, y si la tecnología es “Mala” el promedio será negativo (esta información es conocida\n",
    "por los individuos). Quienes rechacen la tecnología reciben ganancia 0. En este modelo, cuando a un individuo le toca\n",
    "elegir si acepta o rechaza la nueva tecnología, recibe la información de las ganancias de todos los que vinieron antes.\n",
    "\n",
    "a. Supongamos que esta nueva tecnología es, en realidad, “Mala”. ¿Cómo afecta esta nueva información (qué ganancia\n",
    "tuvo cada uno de los que vinieron antes) a la potencial formación de una cascada para que persista la nueva\n",
    "tecnología? (No es necesario dar una demostración, simplemente argumentar)\n",
    "\n",
    "b. Supongamos que esta nueva tecnología es, en realidad, “Buena”. ¿Puede surgir una cascada de rechazo de esta\n",
    "nueva tecnología?"
   ]
  },
  {
   "cell_type": "markdown",
   "metadata": {},
   "source": [
    "*COMPLETAAAAAAAAAAAAAAAAAAAAAAAAAAAAAAAAAAAAAAAAAAAAAAAAAAAAAAAAAAAAAAAAAAAAAAAAAAAAAAR*"
   ]
  },
  {
   "cell_type": "markdown",
   "metadata": {},
   "source": [
    "*Ejercicio 3*\n",
    "\n",
    "Considerá la siguiente red, suponiendo que todos los nodos tienen inicialmente un comportamiento B. Cada nodo puede\n",
    "cambiar al comportamiento A si al menos la mitad de sus vecinos tiene dicho comportamiento.\n",
    "\n",
    "![Esta es una imagen de ejemplo](https://drscdn.500px.org/photo/1049637606/m%3D900/v2?sig=2f58390e5872151ea003619f4c2dfd0884e2a3ccf932b180a89d44430fb749c0)\n",
    "\n",
    "a. Supongamos que los nodos E y F son early adopters del comportamiento A. Si los demás nodos siguen la regla del\n",
    "umbral (threshold) para adherir a este nuevo comportamiento, ¿qué nodos implementarían el comportamiento A?\n",
    "\n",
    "b. Explicar a qué se debe que el comportamiento A no se propaga a través de toda la red en el escenario del punto\n",
    "(a). ¿Qué característica de la red lo impide? (responder a esta pregunta no apuntando a nodos particulares sino a\n",
    "presencias de ciertas características) ¿Dónde más tendría que haber otro early adopter de A sí o sí para que el\n",
    "comportamiento se propague a través de toda la red?"
   ]
  },
  {
   "cell_type": "markdown",
   "metadata": {},
   "source": [
    "a) Si se marcan en rojo los nodos que se adhieren al comportamiento de A, la red quedaria:\n",
    "\n",
    "![Esta es una imagen de ejemplo](https://drscdn.500px.org/photo/1049638743/m%3D900/v2?sig=ddd45a48ecc99a809fd1c56df426f524dbd751e1a259b25f508c821c5808b406)\n",
    "\n",
    "I y C se adhieren ya que tienen mas de la mitad de los nodos adyacentes con el comportamiento A. K y G no llegan a esa condicion por lo que se quedan con su comportamiento anterior."
   ]
  },
  {
   "cell_type": "markdown",
   "metadata": {},
   "source": [
    "b) Lo que pasa en este caso es que a la cascada se le dificulta \"salir\" de la comunidad de la izquierda, que esta densamente conectada. \n",
    "Dicha comunidad esta conectada con la de la derecha mediante los nodos G y K (K no pertenece a ninguna de las dos comunidades) mediante lazos debiles, los cuales son muy buenos para transmitir informacion sobre un comportamiento pero son debiles para trasmitir el comportamiento en si. Por lo que la comunidad de la derecha nunca obtendra el comportamiento de la otra comunidad salvo que haya nodos internamente en ella que comienzen con él.\n",
    "\n",
    "Para que el comportamiento se propague por toda la red, lo que tiene que suceder es que nodos de la comunidad de la derecha sean early adopters. Por ejemplo los nodos H y J\n",
    "\n",
    "ACA VA LA IMAGEN INICIAL\n",
    "\n",
    "Esto generara que los demas nodos que quedaron sin \"contagiarse\" consigan un treashold mayor a 0.5 y puedan adoptar el comportamiento A. Finalmente la red quedaria asi\n",
    "\n",
    "ACA VA LA IMAGEN FINAL"
   ]
  },
  {
   "cell_type": "markdown",
   "metadata": {},
   "source": [
    "*Ejercicio 4*\n",
    "\n",
    "Tenemos dos grafos no dirigidos G1 y G2, con la misma cantidad de vértices y aristas. G1 es un grafo aleatorio de\n",
    "Erdös-Rényi, mientras G2 es un grafo que cumple la ley de potencias en la distribución de los grados. Consideremos un\n",
    "virus que comienza en un único vértice aleatorio y se expande según el modelo SIR.\n",
    "\n",
    "a. ¿En cuál grafo es más probable que ocurra una epidemia (i.e. se infecte al menos un 30% de la red)? Justificar\n",
    "brevemente la respuesta.\n",
    "\n",
    "b. Supongamos que en vez de comenzar en un vértice aleatorio, la epidemia comenzara en el vértice de mayor grado de\n",
    "G1 y G2, respectivamente. ¿En cuál de los grafos es más probable que ocurra una epidemia? Justificar brevemente\n",
    "la respuesta.\n",
    "\n",
    "c. ¿Cómo afecta la existencia (o no existencia) de comunidades en la expansión de la epidemia?"
   ]
  },
  {
   "cell_type": "markdown",
   "metadata": {},
   "source": [
    "a) El grafo que tiene mas probabilidad de que se infecte el 30% de la red es la red aleatoria G1. Ya que las redes que cumplen con la red de potencias son mucho mas robustas. (???????????????????????????)"
   ]
  },
  {
   "cell_type": "markdown",
   "metadata": {},
   "source": [
    "*Ejercicio 5*\n",
    "\n",
    "Aplicar el Algoritmo REV2 al siguiente set de datos de reviews de productos de Amazon, para detectar potenciales\n",
    "usuarios maliciosos y otros ciertamente honestos. Por simplificación (y unificación de criterios), considerar γ1 = γ2 = 0.5.\n",
    "Obtener aquellos usuarios cuya justicia (fairness) es menor o igual a 0.2 (son maliciosos) y tienen al menos 5 reviews,\n",
    "así como la proporción de nodos que son extremadamente justos: aquellos con justicia mayor o igual a 0.9, y con al\n",
    "menos 10 reviews (aristas de salida)."
   ]
  },
  {
   "cell_type": "code",
   "execution_count": 9,
   "metadata": {},
   "outputs": [
    {
     "data": {
      "text/html": [
       "<div>\n",
       "<style scoped>\n",
       "    .dataframe tbody tr th:only-of-type {\n",
       "        vertical-align: middle;\n",
       "    }\n",
       "\n",
       "    .dataframe tbody tr th {\n",
       "        vertical-align: top;\n",
       "    }\n",
       "\n",
       "    .dataframe thead th {\n",
       "        text-align: right;\n",
       "    }\n",
       "</style>\n",
       "<table border=\"1\" class=\"dataframe\">\n",
       "  <thead>\n",
       "    <tr style=\"text-align: right;\">\n",
       "      <th></th>\n",
       "      <th>user_id</th>\n",
       "      <th>product_id</th>\n",
       "      <th>rating</th>\n",
       "    </tr>\n",
       "  </thead>\n",
       "  <tbody>\n",
       "    <tr>\n",
       "      <th>0</th>\n",
       "      <td>A2CX7LUOHB2NDG</td>\n",
       "      <td>0321732944</td>\n",
       "      <td>5.0</td>\n",
       "    </tr>\n",
       "    <tr>\n",
       "      <th>1</th>\n",
       "      <td>A2NWSAGRHCP8N5</td>\n",
       "      <td>0439886341</td>\n",
       "      <td>1.0</td>\n",
       "    </tr>\n",
       "    <tr>\n",
       "      <th>2</th>\n",
       "      <td>A2WNBOD3WNDNKT</td>\n",
       "      <td>0439886341</td>\n",
       "      <td>3.0</td>\n",
       "    </tr>\n",
       "    <tr>\n",
       "      <th>3</th>\n",
       "      <td>A1GI0U4ZRJA8WN</td>\n",
       "      <td>0439886341</td>\n",
       "      <td>1.0</td>\n",
       "    </tr>\n",
       "    <tr>\n",
       "      <th>4</th>\n",
       "      <td>A1QGNMC6O1VW39</td>\n",
       "      <td>0511189877</td>\n",
       "      <td>5.0</td>\n",
       "    </tr>\n",
       "    <tr>\n",
       "      <th>...</th>\n",
       "      <td>...</td>\n",
       "      <td>...</td>\n",
       "      <td>...</td>\n",
       "    </tr>\n",
       "    <tr>\n",
       "      <th>7824476</th>\n",
       "      <td>A2YZI3C9MOHC0L</td>\n",
       "      <td>BT008UKTMW</td>\n",
       "      <td>5.0</td>\n",
       "    </tr>\n",
       "    <tr>\n",
       "      <th>7824477</th>\n",
       "      <td>A322MDK0M89RHN</td>\n",
       "      <td>BT008UKTMW</td>\n",
       "      <td>5.0</td>\n",
       "    </tr>\n",
       "    <tr>\n",
       "      <th>7824478</th>\n",
       "      <td>A1MH90R0ADMIK0</td>\n",
       "      <td>BT008UKTMW</td>\n",
       "      <td>4.0</td>\n",
       "    </tr>\n",
       "    <tr>\n",
       "      <th>7824479</th>\n",
       "      <td>A10M2KEFPEQDHN</td>\n",
       "      <td>BT008UKTMW</td>\n",
       "      <td>4.0</td>\n",
       "    </tr>\n",
       "    <tr>\n",
       "      <th>7824480</th>\n",
       "      <td>A2G81TMIOIDEQQ</td>\n",
       "      <td>BT008V9J9U</td>\n",
       "      <td>5.0</td>\n",
       "    </tr>\n",
       "  </tbody>\n",
       "</table>\n",
       "<p>7824481 rows × 3 columns</p>\n",
       "</div>"
      ],
      "text/plain": [
       "                user_id  product_id  rating\n",
       "0        A2CX7LUOHB2NDG  0321732944     5.0\n",
       "1        A2NWSAGRHCP8N5  0439886341     1.0\n",
       "2        A2WNBOD3WNDNKT  0439886341     3.0\n",
       "3        A1GI0U4ZRJA8WN  0439886341     1.0\n",
       "4        A1QGNMC6O1VW39  0511189877     5.0\n",
       "...                 ...         ...     ...\n",
       "7824476  A2YZI3C9MOHC0L  BT008UKTMW     5.0\n",
       "7824477  A322MDK0M89RHN  BT008UKTMW     5.0\n",
       "7824478  A1MH90R0ADMIK0  BT008UKTMW     4.0\n",
       "7824479  A10M2KEFPEQDHN  BT008UKTMW     4.0\n",
       "7824480  A2G81TMIOIDEQQ  BT008V9J9U     5.0\n",
       "\n",
       "[7824481 rows x 3 columns]"
      ]
     },
     "execution_count": 9,
     "metadata": {},
     "output_type": "execute_result"
    }
   ],
   "source": [
    "# Obtengo el set de datos\n",
    "\n",
    "amazon = pd.read_csv(\"ratings_electronics.csv\")\n",
    "amazon = amazon.rename(columns={'AKM1MP6P0OYPR':'user_id', '0132793040': 'product_id',\\\n",
    "                                '5.0': 'rating', '1365811200':'timestamp'})\n",
    "amazon = amazon.drop(['timestamp'], axis=1)\n",
    "amazon"
   ]
  },
  {
   "cell_type": "code",
   "execution_count": 10,
   "metadata": {},
   "outputs": [
    {
     "data": {
      "text/plain": [
       "array([['A2CX7LUOHB2NDG', '0321732944', 5.0],\n",
       "       ['A2NWSAGRHCP8N5', '0439886341', 1.0],\n",
       "       ['A2WNBOD3WNDNKT', '0439886341', 3.0],\n",
       "       ...,\n",
       "       ['A1MH90R0ADMIK0', 'BT008UKTMW', 4.0],\n",
       "       ['A10M2KEFPEQDHN', 'BT008UKTMW', 4.0],\n",
       "       ['A2G81TMIOIDEQQ', 'BT008V9J9U', 5.0]], dtype=object)"
      ]
     },
     "execution_count": 10,
     "metadata": {},
     "output_type": "execute_result"
    }
   ],
   "source": [
    "vector_amazon = amazon.to_numpy()\n",
    "vector_amazon"
   ]
  },
  {
   "cell_type": "code",
   "execution_count": 11,
   "metadata": {},
   "outputs": [],
   "source": [
    "# cambio puntaje por rango del score, debe pertenecer a [-1, 1]\n",
    "for e in vector_amazon:\n",
    "    if e[2] == 1.0:\n",
    "        e[2] = -1\n",
    "    elif e[2] == 2.0:\n",
    "        e[2] = -0.5\n",
    "    elif e[2] == 3.0:\n",
    "        e[2] = 0\n",
    "    elif e[2] == 4.0:\n",
    "        e[2] = 0.5\n",
    "    elif e[2] == 5.0:\n",
    "        e[2] = 1"
   ]
  },
  {
   "cell_type": "code",
   "execution_count": 12,
   "metadata": {},
   "outputs": [],
   "source": [
    "dict_usuario_producto = {}\n",
    "\n",
    "for i in range(len(vector_amazon)):\n",
    "    if dict_usuario_producto.get(vector_amazon[i][0]):\n",
    "        dict_usuario_producto.get(vector_amazon[i][0])[vector_amazon[i][1]] = vector_amazon[i][2]\n",
    "    else:\n",
    "        dict_usuario_producto[vector_amazon[i][0]] = {}\n",
    "        dict_usuario_producto.get(vector_amazon[i][0])[vector_amazon[i][1]] = vector_amazon[i][2]"
   ]
  },
  {
   "cell_type": "code",
   "execution_count": 13,
   "metadata": {},
   "outputs": [],
   "source": [
    "dict_producto_usuario = {}\n",
    "\n",
    "for i in range(len(vector_amazon)):\n",
    "    if dict_producto_usuario.get(vector_amazon[i][1]):\n",
    "        dict_producto_usuario.get(vector_amazon[i][1])[vector_amazon[i][0]] = vector_amazon[i][2]\n",
    "    else:\n",
    "        dict_producto_usuario[vector_amazon[i][1]] = {}\n",
    "        dict_producto_usuario.get(vector_amazon[i][1])[vector_amazon[i][0]] = vector_amazon[i][2]"
   ]
  },
  {
   "cell_type": "code",
   "execution_count": 14,
   "metadata": {},
   "outputs": [],
   "source": [
    "grado_salida_producto = {}\n",
    "\n",
    "for i in range(len(vector_amazon)):\n",
    "    if grado_salida_producto.get(vector_amazon[i][1]):\n",
    "        grado_salida_producto[vector_amazon[i][1]] += 1\n",
    "    else:\n",
    "        grado_salida_producto[vector_amazon[i][1]] = 1"
   ]
  },
  {
   "cell_type": "code",
   "execution_count": 15,
   "metadata": {},
   "outputs": [],
   "source": [
    "RUP_inicial = {}\n",
    "\n",
    "for i in range(len(vector_amazon)):\n",
    "    if RUP_inicial.get(vector_amazon[i][0]):\n",
    "        continue\n",
    "    else:\n",
    "        RUP_inicial[vector_amazon[i][0]] = vector_amazon[i][1]"
   ]
  },
  {
   "cell_type": "code",
   "execution_count": 16,
   "metadata": {},
   "outputs": [],
   "source": [
    "RUP = {}\n",
    "\n",
    "for i in range(len(vector_amazon)):\n",
    "    key = vector_amazon[i][0] + vector_amazon[i][1]\n",
    "    if RUP.get(key):\n",
    "        continue\n",
    "    else:\n",
    "        RUP[key] = 1"
   ]
  },
  {
   "cell_type": "code",
   "execution_count": 17,
   "metadata": {},
   "outputs": [],
   "source": [
    "fairness_usuario = {}\n",
    "\n",
    "for i in range(len(vector_amazon)):\n",
    "    if fairness_usuario.get(vector_amazon[i][0]):\n",
    "        continue\n",
    "    else:\n",
    "        fairness_usuario[vector_amazon[i][0]] = 1"
   ]
  },
  {
   "cell_type": "code",
   "execution_count": 18,
   "metadata": {},
   "outputs": [],
   "source": [
    "gain_producto = {}\n",
    "\n",
    "for i in range(len(vector_amazon)):\n",
    "    if gain_producto.get(vector_amazon[i][1]):\n",
    "        continue\n",
    "    else:\n",
    "        gain_producto[vector_amazon[i][1]] = 1"
   ]
  },
  {
   "cell_type": "code",
   "execution_count": 19,
   "metadata": {},
   "outputs": [],
   "source": [
    "def obtener_productos_calificados(u):\n",
    "    dict_retornado = dict_usuario_producto.get(u)\n",
    "    productos = []\n",
    "    for clave, valor in dict_retornado.items():\n",
    "        productos.append(clave)\n",
    "    return productos"
   ]
  },
  {
   "cell_type": "code",
   "execution_count": 20,
   "metadata": {},
   "outputs": [],
   "source": [
    "def obtener_usuarios_que_calificaron(p):\n",
    "    dict_retornado = dict_producto_usuario.get(p)\n",
    "    usuarios = []\n",
    "    for clave, valor in dict_retornado.items():\n",
    "        productos.append(clave)\n",
    "    return usuarios"
   ]
  },
  {
   "cell_type": "code",
   "execution_count": 24,
   "metadata": {},
   "outputs": [],
   "source": [
    "def obtener_score(u, p):\n",
    "    return dict_usuario_producto.get(u).get(p)"
   ]
  },
  {
   "cell_type": "code",
   "execution_count": null,
   "metadata": {},
   "outputs": [],
   "source": [
    "def obtener_usuarios_maliciosos():\n",
    "    # -----------------------------------------------------------------------\n",
    "    # El fu lo actualizo con la sumatoria de Rup (variando p) \n",
    "    # dividido el grado de salida del producto   \n",
    "    # -----------------------------------------------------------------------\n",
    "    for usuario, valor_fairness in fairness_usuario.items():\n",
    "        fairness = valor_fairness\n",
    "        for usuario, producto in RUP_inicial.items():\n",
    "            productos_calificados = obtener_productos_calificados(usuario)\n",
    "            for p in productos_calificados:                \n",
    "                fairness += RUP.get(usuario + p) / grado_salida_producto.get(p)\n",
    "        fairness_usuario[usuario] = fairness   \n",
    "    # -----------------------------------------------------------------------\n",
    "    # El gp lo actualizo con la sumatoria de Rup (variando u) \n",
    "    # * score de ese u divido la cantidad de usuarios que vieron ese producto\n",
    "    # -----------------------------------------------------------------------\n",
    "    for producto, valor_gain in gain_producto.items():\n",
    "        gain = valor_gain\n",
    "        for usuario, producto in RUP_inicial.items():\n",
    "            usuarios_que_calificaron = obtener_usuarios_que_calificaron(producto)\n",
    "            for u in usuarios_que_calificaron:                \n",
    "                gain += RUP.get(u + producto) * obtener_score(u, producto) / \\\n",
    "                grado_salida_producto.get(producto)\n",
    "        gain_producto[producto] = gain \n",
    "    # -----------------------------------------------------------------------\n",
    "    # El rup se actualiza como (0.5 * Fu + 0.5(1 - (|score - Gp|)/2)\n",
    "    # -----------------------------------------------------------------------\n",
    "    for u, p in RUP_inicial.items():\n",
    "        RUP[usuario + producto] = 0.5 * fairness_usuario.get(u) + 0.5 * (1 - (np.abs(obtener_score(u,p) - gain_producto.get(p)))/2)    \n",
    "\n",
    "    return 0\n",
    "\n",
    "obtener_usuarios_maliciosos()"
   ]
  },
  {
   "cell_type": "code",
   "execution_count": null,
   "metadata": {},
   "outputs": [],
   "source": [
    "print(type(grado_salida_producto.get('0321732944')))"
   ]
  }
 ],
 "metadata": {
  "kernelspec": {
   "display_name": "Python 3",
   "language": "python",
   "name": "python3"
  },
  "language_info": {
   "codemirror_mode": {
    "name": "ipython",
    "version": 3
   },
   "file_extension": ".py",
   "mimetype": "text/x-python",
   "name": "python",
   "nbconvert_exporter": "python",
   "pygments_lexer": "ipython3",
   "version": "3.8.10"
  }
 },
 "nbformat": 4,
 "nbformat_minor": 4
}
