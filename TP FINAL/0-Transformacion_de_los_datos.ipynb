{
  "nbformat": 4,
  "nbformat_minor": 0,
  "metadata": {
    "colab": {
      "provenance": []
    },
    "kernelspec": {
      "name": "python3",
      "display_name": "Python 3"
    },
    "language_info": {
      "name": "python"
    }
  },
  "cells": [
    {
      "cell_type": "code",
      "execution_count": null,
      "metadata": {
        "colab": {
          "base_uri": "https://localhost:8080/"
        },
        "id": "K5PbQ4PxSsi8",
        "outputId": "d68e9fc7-283c-4c3c-a3cf-dbf2da80f310"
      },
      "outputs": [
        {
          "output_type": "stream",
          "name": "stdout",
          "text": [
            "Requirement already satisfied: pandas in /usr/local/lib/python3.10/dist-packages (1.5.3)\n",
            "Requirement already satisfied: python-dateutil>=2.8.1 in /usr/local/lib/python3.10/dist-packages (from pandas) (2.8.2)\n",
            "Requirement already satisfied: pytz>=2020.1 in /usr/local/lib/python3.10/dist-packages (from pandas) (2022.7.1)\n",
            "Requirement already satisfied: numpy>=1.21.0 in /usr/local/lib/python3.10/dist-packages (from pandas) (1.22.4)\n",
            "Requirement already satisfied: six>=1.5 in /usr/local/lib/python3.10/dist-packages (from python-dateutil>=2.8.1->pandas) (1.16.0)\n"
          ]
        }
      ],
      "source": [
        "!pip install pandas\n",
        "import pandas as pd"
      ]
    },
    {
      "cell_type": "code",
      "source": [
        "# Importo CSV\n",
        "datos = pd.read_csv(\"RideAustin_Weather.csv\")"
      ],
      "metadata": {
        "colab": {
          "base_uri": "https://localhost:8080/",
          "height": 353
        },
        "id": "OSIXHiihSxYu",
        "outputId": "0b86da4a-b657-49ad-d0e7-706333c63143"
      },
      "execution_count": null,
      "outputs": [
        {
          "output_type": "error",
          "ename": "FileNotFoundError",
          "evalue": "ignored",
          "traceback": [
            "\u001b[0;31m---------------------------------------------------------------------------\u001b[0m",
            "\u001b[0;31mFileNotFoundError\u001b[0m                         Traceback (most recent call last)",
            "\u001b[0;32m<ipython-input-2-9db646dd18c2>\u001b[0m in \u001b[0;36m<cell line: 2>\u001b[0;34m()\u001b[0m\n\u001b[1;32m      1\u001b[0m \u001b[0;31m# Importo CSV\u001b[0m\u001b[0;34m\u001b[0m\u001b[0;34m\u001b[0m\u001b[0m\n\u001b[0;32m----> 2\u001b[0;31m \u001b[0mdatos\u001b[0m \u001b[0;34m=\u001b[0m \u001b[0mpd\u001b[0m\u001b[0;34m.\u001b[0m\u001b[0mread_csv\u001b[0m\u001b[0;34m(\u001b[0m\u001b[0;34m\"RideAustin_Weather.csv\"\u001b[0m\u001b[0;34m)\u001b[0m\u001b[0;34m\u001b[0m\u001b[0;34m\u001b[0m\u001b[0m\n\u001b[0m",
            "\u001b[0;32m/usr/local/lib/python3.10/dist-packages/pandas/util/_decorators.py\u001b[0m in \u001b[0;36mwrapper\u001b[0;34m(*args, **kwargs)\u001b[0m\n\u001b[1;32m    209\u001b[0m                 \u001b[0;32melse\u001b[0m\u001b[0;34m:\u001b[0m\u001b[0;34m\u001b[0m\u001b[0;34m\u001b[0m\u001b[0m\n\u001b[1;32m    210\u001b[0m                     \u001b[0mkwargs\u001b[0m\u001b[0;34m[\u001b[0m\u001b[0mnew_arg_name\u001b[0m\u001b[0;34m]\u001b[0m \u001b[0;34m=\u001b[0m \u001b[0mnew_arg_value\u001b[0m\u001b[0;34m\u001b[0m\u001b[0;34m\u001b[0m\u001b[0m\n\u001b[0;32m--> 211\u001b[0;31m             \u001b[0;32mreturn\u001b[0m \u001b[0mfunc\u001b[0m\u001b[0;34m(\u001b[0m\u001b[0;34m*\u001b[0m\u001b[0margs\u001b[0m\u001b[0;34m,\u001b[0m \u001b[0;34m**\u001b[0m\u001b[0mkwargs\u001b[0m\u001b[0;34m)\u001b[0m\u001b[0;34m\u001b[0m\u001b[0;34m\u001b[0m\u001b[0m\n\u001b[0m\u001b[1;32m    212\u001b[0m \u001b[0;34m\u001b[0m\u001b[0m\n\u001b[1;32m    213\u001b[0m         \u001b[0;32mreturn\u001b[0m \u001b[0mcast\u001b[0m\u001b[0;34m(\u001b[0m\u001b[0mF\u001b[0m\u001b[0;34m,\u001b[0m \u001b[0mwrapper\u001b[0m\u001b[0;34m)\u001b[0m\u001b[0;34m\u001b[0m\u001b[0;34m\u001b[0m\u001b[0m\n",
            "\u001b[0;32m/usr/local/lib/python3.10/dist-packages/pandas/util/_decorators.py\u001b[0m in \u001b[0;36mwrapper\u001b[0;34m(*args, **kwargs)\u001b[0m\n\u001b[1;32m    329\u001b[0m                     \u001b[0mstacklevel\u001b[0m\u001b[0;34m=\u001b[0m\u001b[0mfind_stack_level\u001b[0m\u001b[0;34m(\u001b[0m\u001b[0;34m)\u001b[0m\u001b[0;34m,\u001b[0m\u001b[0;34m\u001b[0m\u001b[0;34m\u001b[0m\u001b[0m\n\u001b[1;32m    330\u001b[0m                 )\n\u001b[0;32m--> 331\u001b[0;31m             \u001b[0;32mreturn\u001b[0m \u001b[0mfunc\u001b[0m\u001b[0;34m(\u001b[0m\u001b[0;34m*\u001b[0m\u001b[0margs\u001b[0m\u001b[0;34m,\u001b[0m \u001b[0;34m**\u001b[0m\u001b[0mkwargs\u001b[0m\u001b[0;34m)\u001b[0m\u001b[0;34m\u001b[0m\u001b[0;34m\u001b[0m\u001b[0m\n\u001b[0m\u001b[1;32m    332\u001b[0m \u001b[0;34m\u001b[0m\u001b[0m\n\u001b[1;32m    333\u001b[0m         \u001b[0;31m# error: \"Callable[[VarArg(Any), KwArg(Any)], Any]\" has no\u001b[0m\u001b[0;34m\u001b[0m\u001b[0;34m\u001b[0m\u001b[0m\n",
            "\u001b[0;32m/usr/local/lib/python3.10/dist-packages/pandas/io/parsers/readers.py\u001b[0m in \u001b[0;36mread_csv\u001b[0;34m(filepath_or_buffer, sep, delimiter, header, names, index_col, usecols, squeeze, prefix, mangle_dupe_cols, dtype, engine, converters, true_values, false_values, skipinitialspace, skiprows, skipfooter, nrows, na_values, keep_default_na, na_filter, verbose, skip_blank_lines, parse_dates, infer_datetime_format, keep_date_col, date_parser, dayfirst, cache_dates, iterator, chunksize, compression, thousands, decimal, lineterminator, quotechar, quoting, doublequote, escapechar, comment, encoding, encoding_errors, dialect, error_bad_lines, warn_bad_lines, on_bad_lines, delim_whitespace, low_memory, memory_map, float_precision, storage_options)\u001b[0m\n\u001b[1;32m    948\u001b[0m     \u001b[0mkwds\u001b[0m\u001b[0;34m.\u001b[0m\u001b[0mupdate\u001b[0m\u001b[0;34m(\u001b[0m\u001b[0mkwds_defaults\u001b[0m\u001b[0;34m)\u001b[0m\u001b[0;34m\u001b[0m\u001b[0;34m\u001b[0m\u001b[0m\n\u001b[1;32m    949\u001b[0m \u001b[0;34m\u001b[0m\u001b[0m\n\u001b[0;32m--> 950\u001b[0;31m     \u001b[0;32mreturn\u001b[0m \u001b[0m_read\u001b[0m\u001b[0;34m(\u001b[0m\u001b[0mfilepath_or_buffer\u001b[0m\u001b[0;34m,\u001b[0m \u001b[0mkwds\u001b[0m\u001b[0;34m)\u001b[0m\u001b[0;34m\u001b[0m\u001b[0;34m\u001b[0m\u001b[0m\n\u001b[0m\u001b[1;32m    951\u001b[0m \u001b[0;34m\u001b[0m\u001b[0m\n\u001b[1;32m    952\u001b[0m \u001b[0;34m\u001b[0m\u001b[0m\n",
            "\u001b[0;32m/usr/local/lib/python3.10/dist-packages/pandas/io/parsers/readers.py\u001b[0m in \u001b[0;36m_read\u001b[0;34m(filepath_or_buffer, kwds)\u001b[0m\n\u001b[1;32m    603\u001b[0m \u001b[0;34m\u001b[0m\u001b[0m\n\u001b[1;32m    604\u001b[0m     \u001b[0;31m# Create the parser.\u001b[0m\u001b[0;34m\u001b[0m\u001b[0;34m\u001b[0m\u001b[0m\n\u001b[0;32m--> 605\u001b[0;31m     \u001b[0mparser\u001b[0m \u001b[0;34m=\u001b[0m \u001b[0mTextFileReader\u001b[0m\u001b[0;34m(\u001b[0m\u001b[0mfilepath_or_buffer\u001b[0m\u001b[0;34m,\u001b[0m \u001b[0;34m**\u001b[0m\u001b[0mkwds\u001b[0m\u001b[0;34m)\u001b[0m\u001b[0;34m\u001b[0m\u001b[0;34m\u001b[0m\u001b[0m\n\u001b[0m\u001b[1;32m    606\u001b[0m \u001b[0;34m\u001b[0m\u001b[0m\n\u001b[1;32m    607\u001b[0m     \u001b[0;32mif\u001b[0m \u001b[0mchunksize\u001b[0m \u001b[0;32mor\u001b[0m \u001b[0miterator\u001b[0m\u001b[0;34m:\u001b[0m\u001b[0;34m\u001b[0m\u001b[0;34m\u001b[0m\u001b[0m\n",
            "\u001b[0;32m/usr/local/lib/python3.10/dist-packages/pandas/io/parsers/readers.py\u001b[0m in \u001b[0;36m__init__\u001b[0;34m(self, f, engine, **kwds)\u001b[0m\n\u001b[1;32m   1440\u001b[0m \u001b[0;34m\u001b[0m\u001b[0m\n\u001b[1;32m   1441\u001b[0m         \u001b[0mself\u001b[0m\u001b[0;34m.\u001b[0m\u001b[0mhandles\u001b[0m\u001b[0;34m:\u001b[0m \u001b[0mIOHandles\u001b[0m \u001b[0;34m|\u001b[0m \u001b[0;32mNone\u001b[0m \u001b[0;34m=\u001b[0m \u001b[0;32mNone\u001b[0m\u001b[0;34m\u001b[0m\u001b[0;34m\u001b[0m\u001b[0m\n\u001b[0;32m-> 1442\u001b[0;31m         \u001b[0mself\u001b[0m\u001b[0;34m.\u001b[0m\u001b[0m_engine\u001b[0m \u001b[0;34m=\u001b[0m \u001b[0mself\u001b[0m\u001b[0;34m.\u001b[0m\u001b[0m_make_engine\u001b[0m\u001b[0;34m(\u001b[0m\u001b[0mf\u001b[0m\u001b[0;34m,\u001b[0m \u001b[0mself\u001b[0m\u001b[0;34m.\u001b[0m\u001b[0mengine\u001b[0m\u001b[0;34m)\u001b[0m\u001b[0;34m\u001b[0m\u001b[0;34m\u001b[0m\u001b[0m\n\u001b[0m\u001b[1;32m   1443\u001b[0m \u001b[0;34m\u001b[0m\u001b[0m\n\u001b[1;32m   1444\u001b[0m     \u001b[0;32mdef\u001b[0m \u001b[0mclose\u001b[0m\u001b[0;34m(\u001b[0m\u001b[0mself\u001b[0m\u001b[0;34m)\u001b[0m \u001b[0;34m->\u001b[0m \u001b[0;32mNone\u001b[0m\u001b[0;34m:\u001b[0m\u001b[0;34m\u001b[0m\u001b[0;34m\u001b[0m\u001b[0m\n",
            "\u001b[0;32m/usr/local/lib/python3.10/dist-packages/pandas/io/parsers/readers.py\u001b[0m in \u001b[0;36m_make_engine\u001b[0;34m(self, f, engine)\u001b[0m\n\u001b[1;32m   1733\u001b[0m                 \u001b[0;32mif\u001b[0m \u001b[0;34m\"b\"\u001b[0m \u001b[0;32mnot\u001b[0m \u001b[0;32min\u001b[0m \u001b[0mmode\u001b[0m\u001b[0;34m:\u001b[0m\u001b[0;34m\u001b[0m\u001b[0;34m\u001b[0m\u001b[0m\n\u001b[1;32m   1734\u001b[0m                     \u001b[0mmode\u001b[0m \u001b[0;34m+=\u001b[0m \u001b[0;34m\"b\"\u001b[0m\u001b[0;34m\u001b[0m\u001b[0;34m\u001b[0m\u001b[0m\n\u001b[0;32m-> 1735\u001b[0;31m             self.handles = get_handle(\n\u001b[0m\u001b[1;32m   1736\u001b[0m                 \u001b[0mf\u001b[0m\u001b[0;34m,\u001b[0m\u001b[0;34m\u001b[0m\u001b[0;34m\u001b[0m\u001b[0m\n\u001b[1;32m   1737\u001b[0m                 \u001b[0mmode\u001b[0m\u001b[0;34m,\u001b[0m\u001b[0;34m\u001b[0m\u001b[0;34m\u001b[0m\u001b[0m\n",
            "\u001b[0;32m/usr/local/lib/python3.10/dist-packages/pandas/io/common.py\u001b[0m in \u001b[0;36mget_handle\u001b[0;34m(path_or_buf, mode, encoding, compression, memory_map, is_text, errors, storage_options)\u001b[0m\n\u001b[1;32m    854\u001b[0m         \u001b[0;32mif\u001b[0m \u001b[0mioargs\u001b[0m\u001b[0;34m.\u001b[0m\u001b[0mencoding\u001b[0m \u001b[0;32mand\u001b[0m \u001b[0;34m\"b\"\u001b[0m \u001b[0;32mnot\u001b[0m \u001b[0;32min\u001b[0m \u001b[0mioargs\u001b[0m\u001b[0;34m.\u001b[0m\u001b[0mmode\u001b[0m\u001b[0;34m:\u001b[0m\u001b[0;34m\u001b[0m\u001b[0;34m\u001b[0m\u001b[0m\n\u001b[1;32m    855\u001b[0m             \u001b[0;31m# Encoding\u001b[0m\u001b[0;34m\u001b[0m\u001b[0;34m\u001b[0m\u001b[0m\n\u001b[0;32m--> 856\u001b[0;31m             handle = open(\n\u001b[0m\u001b[1;32m    857\u001b[0m                 \u001b[0mhandle\u001b[0m\u001b[0;34m,\u001b[0m\u001b[0;34m\u001b[0m\u001b[0;34m\u001b[0m\u001b[0m\n\u001b[1;32m    858\u001b[0m                 \u001b[0mioargs\u001b[0m\u001b[0;34m.\u001b[0m\u001b[0mmode\u001b[0m\u001b[0;34m,\u001b[0m\u001b[0;34m\u001b[0m\u001b[0;34m\u001b[0m\u001b[0m\n",
            "\u001b[0;31mFileNotFoundError\u001b[0m: [Errno 2] No such file or directory: 'RideAustin_Weather.csv'"
          ]
        }
      ]
    },
    {
      "cell_type": "code",
      "source": [
        "# Me quedo con las columnas de interes, que son las coordenadas de los viajes\n",
        "columnas_deseadas = [\"end_location_lat\", \"end_location_long\", \"start_location_long\", \"start_location_lat\"]\n",
        "datos_seleccionados = datos[columnas_deseadas]"
      ],
      "metadata": {
        "id": "lZoqBhX-Syu7"
      },
      "execution_count": null,
      "outputs": []
    },
    {
      "cell_type": "code",
      "source": [
        "datos_seleccionados"
      ],
      "metadata": {
        "id": "RO2hkiawS0iS"
      },
      "execution_count": null,
      "outputs": []
    },
    {
      "cell_type": "code",
      "source": [
        "# Agrupo latitud y longitud en una sola columna\n",
        "\n",
        "datos_seleccionados[\"initial_position\"] = \"(\" + datos_seleccionados['start_location_lat'].astype(str) + \", \" + datos_seleccionados['start_location_long'].astype(str) + \")\"\n",
        "datos_seleccionados[\"final_position\"] = \"(\" + datos_seleccionados['end_location_lat'].astype(str) + \", \" + datos_seleccionados['end_location_long'].astype(str) + \")\""
      ],
      "metadata": {
        "id": "JqwG1oHWS4Ne"
      },
      "execution_count": null,
      "outputs": []
    },
    {
      "cell_type": "code",
      "source": [
        "columnas_de_datos_seleccionadas = [\"initial_position\", \"final_position\"]\n",
        "solo_posiciones = datos_seleccionados[columnas_de_datos_seleccionadas]"
      ],
      "metadata": {
        "id": "D2Ju67k1UCif"
      },
      "execution_count": null,
      "outputs": []
    },
    {
      "cell_type": "code",
      "source": [
        "solo_posiciones"
      ],
      "metadata": {
        "id": "mou4fCAWUGjx"
      },
      "execution_count": null,
      "outputs": []
    },
    {
      "cell_type": "code",
      "source": [
        "# Me quedo con las direcciones que fueron al menos inicio de 150 viajes\n",
        "\n",
        "initial_cantidades = solo_posiciones.groupby('initial_position').size().reset_index(name='count')\n",
        "\n",
        "initial_cantidades_mayores_150 = initial_cantidades[initial_cantidades['count'] > 150]\n",
        "\n",
        "initial_cantidades_mayores_150.head(3)"
      ],
      "metadata": {
        "id": "rG6PNQ2OUJ8b"
      },
      "execution_count": null,
      "outputs": []
    },
    {
      "cell_type": "code",
      "source": [
        "# Me quedo con las direcciones que fueron al menos finales de 150 viajes\n",
        "\n",
        "final_cantidades = solo_posiciones.groupby('final_position').size().reset_index(name='count')\n",
        "\n",
        "final_cantidades_mayores_150 = final_cantidades[final_cantidades['count'] > 150]"
      ],
      "metadata": {
        "id": "aFq6r-t8WIPd"
      },
      "execution_count": null,
      "outputs": []
    },
    {
      "cell_type": "code",
      "source": [
        "# Los paso a lista para el filtrado\n",
        "\n",
        "initial_cantidades_mayores_150_lista = initial_cantidades_mayores_150['initial_position'].tolist()\n",
        "final_cantidades_mayores_150_lista = final_cantidades_mayores_150['final_position'].tolist()"
      ],
      "metadata": {
        "id": "hfK4LeiTiTU_"
      },
      "execution_count": null,
      "outputs": []
    },
    {
      "cell_type": "code",
      "source": [
        "# Del dataset inicial me quedo solo con las direcciones mayores a 150.\n",
        "\n",
        "solo_posiciones_con_150_initial = solo_posiciones[solo_posiciones['initial_position'].isin(initial_cantidades_mayores_150_lista)]\n",
        "solo_posiciones_final = solo_posiciones_con_150_initial[solo_posiciones_con_150_initial['final_position'].isin(final_cantidades_mayores_150_lista)]\n",
        "\n",
        "solo_posiciones_final"
      ],
      "metadata": {
        "id": "-_DrHLdDhCoi"
      },
      "execution_count": null,
      "outputs": []
    },
    {
      "cell_type": "code",
      "source": [
        "# Mapeo coordenada a direccion real\n",
        "\n",
        "lugares = {}\n",
        "\n",
        "lugares['(30.27, -97.74)'] = '221 East 9th Street'\n",
        "lugares['(30.27, -97.75)'] = '709 West 6th Street'\n",
        "lugares['(30.26, -97.74)'] = 'Red River Street'\n",
        "lugares['(30.29, -97.75)'] = '2505 Longview Street'\n",
        "lugares['(30.29, -97.74)'] = '2605 Whitis Avenue'\n",
        "lugares['(30.28, -97.74)'] = '207 West 18th Street'\n",
        "lugares['(30.25, -97.75)'] = 'West Gibson Street'\n",
        "lugares['(30.26, -97.75)'] = '400 1/2 South 1st Street'\n",
        "lugares['(30.27, -97.73)'] = '1155 Curve Street'\n",
        "lugares['(30.26, -97.76)'] = '1402 Hillmont Street'\n",
        "lugares['(30.26, -97.73)'] = '1403 East 2nd Street'\n",
        "lugares['(30.2, -97.67)'] = '3600 Presidential Boulevard'\n",
        "lugares['(30.28, -97.75)'] = 'West 15th Street'\n",
        "lugares['(30.26, -97.72)'] = '2023 East 5th Street'\n",
        "lugares['(30.27, -97.76)'] = 'Reserve Road'\n",
        "lugares['(30.24, -97.72)'] = '1400 South Pleasant Valley Road'\n",
        "lugares['(30.25, -97.76)'] = '1702 Briar Street'\n",
        "lugares['(30.3, -97.74)'] = '3304 Guadalupe Street'\n",
        "lugares['(30.24, -97.73)'] = '1500 Royal Crest Drive'\n",
        "lugares['(30.28, -97.76)'] = '1629 West 11 1/2 Street'\n",
        "lugares['(30.25, -97.73)'] = 'Nash Hernandez Sr Road'\n",
        "lugares['(30.29, -97.73)'] = '2908 Beanna Street'\n",
        "lugares['(30.32, -97.71)'] = '909 East Koenig Lane'\n",
        "lugares['(30.29, -97.72)'] = '3301 Hollywood Avenue'\n",
        "lugares['(30.28, -97.73)'] = 'East 20th Street'\n",
        "lugares['(30.28, -97.77)'] = '2106 West 7th Street'\n",
        "lugares['(30.4, -97.72)'] = '11405 Alterra Parkway'\n",
        "lugares['(30.24, -97.75)'] = '313 Lone Oak Drive'\n",
        "lugares['(30.26, -97.77)'] = '2002 Dexter Street'\n",
        "lugares['(30.25, -97.74)'] = '811 East Riverside Drive'\n",
        "lugares['(30.25, -97.77)'] = '2008 Kinney Avenue'\n",
        "lugares['(30.28, -97.72)'] = '1915 East Martin Luther King Jr Boulevard'\n",
        "lugares['(30.23, -97.76)'] = '3001 South Congress Avenue'\n",
        "lugares['(30.27, -97.77)'] = 'Lady Bird Lake Hike and Bike Trail'\n",
        "lugares['(30.24, -97.76)'] = 'Gillis District Park Trail'\n",
        "lugares['(30.24, -97.78)'] = '1911 Lightsey Road'\n",
        "lugares['(30.24, -97.74)'] = '1903 Fairlawn Lane'\n",
        "lugares['(30.31, -97.73)'] = '4504 Avenue C'\n",
        "lugares['(30.23, -97.77)'] = '3707 South 2nd Street'\n",
        "lugares['(30.3, -97.72)'] = '1000 East 41st Street'\n",
        "lugares['(30.32, -97.73)'] = '5209 North Lamar Boulevard'\n",
        "lugares['(30.23, -97.73)'] = '2400 East Oltorf Street'\n",
        "lugares['(30.24, -97.79)'] = 'Barley Bean, South Lamar Boulevard'\n",
        "lugares['(30.27, -97.72)'] = '1157 Salina Street'\n",
        "lugares['(30.21, -97.75)'] = '4368 Freidrich Lane'\n",
        "lugares['(30.31, -97.72)'] = '611 Fairfield Lane'\n",
        "lugares['(30.23, -97.74)'] = '2500 Candlewood Court'\n",
        "lugares['(30.24, -97.71)'] = 'Riverside Golf Course, 1020 Grove Boulevard'\n",
        "lugares['(30.31, -97.74)'] = '4200 North Lamar Boulevard'\n",
        "lugares['(30.25, -97.78)'] = '2207 De Verne Street'\n",
        "lugares['(30.3, -97.73)'] = '3811 Avenue H'\n",
        "lugares['(30.23, -97.72)'] = '2241 Cromwell Circle'\n",
        "lugares['(30.25, -97.72)'] = 'Ann & Roy Butler Hike and Bike Trail'\n",
        "lugares['(30.3, -97.78)'] = '3708 Meredith Street'\n",
        "lugares['(30.26, -97.79)'] = '2904 Barton Skyway'\n",
        "lugares['(30.19, -97.67)'] = '4015 Bergstrom Drive'\n",
        "lugares['(30.19, -97.77)'] = 'East William Cannon Drive'\n",
        "lugares['(30.2, -97.66)'] = '3600 Presidential Boulevard'\n",
        "lugares['(30.2, -97.77)'] = '490 Little Texas Lane'\n",
        "lugares['(30.2, -97.84)'] = '8405 Hornet Drive'\n",
        "lugares['(30.21, -97.67)'] = '3018 Spirit of Texas Drive'\n",
        "lugares['(30.21, -97.76)'] = '4707 Weidemar Lane'\n",
        "lugares['(30.21, -97.77)'] = '5001 Wasson Road'\n",
        "lugares['(30.21, -97.78)'] = '510 Gate Tree Lane'\n",
        "lugares['(30.21, -97.79)'] = '5701 Mojave Drive'\n",
        "lugares['(30.22, -97.69)'] = 'Cambria Hotel Austin Airport, Discovery Lane'\n",
        "lugares['(30.22, -97.72)'] = '5305 East Oltorf Street'\n",
        "lugares['(30.22, -97.73)'] = 'Country Club Creek Trail'\n",
        "lugares['(30.22, -97.74)'] = '3400 Catalina Drive'\n",
        "lugares['(30.22, -97.75)'] = 'South Interstate 35'\n",
        "lugares['(30.22, -97.76)'] = '405 East Ben White Boulevard'\n",
        "lugares['(30.22, -97.77)'] = '400 West Saint Elmo Road'\n",
        "lugares['(30.22, -97.78)'] = '4608 Mount Vernon Drive'\n",
        "lugares['(30.22, -97.8)'] = '2212 Village Way Drive'\n",
        "lugares['(30.23, -97.71)'] = '5606 Penick Drive'\n",
        "lugares['(30.23, -97.75)'] = 'St. Edwards University, 3001 South Congress Avenue'\n",
        "lugares['(30.23, -97.78)'] = '1517 Summer Stone Drive'\n",
        "lugares['(30.23, -97.79)'] = 'Popeyes, Cactus Lane'\n",
        "lugares['(30.23, -97.8)'] = '2624 Western Trails Boulevard'\n",
        "lugares['(30.23, -97.82)'] = '2624 Western Trails Boulevard'\n",
        "lugares['(30.23, -97.83)'] = '5700 South Mopac Expressway'\n",
        "lugares['(30.23, -97.84)'] = '4701 Monterey Oaks Boulevard'\n",
        "lugares['(30.24, -97.77)'] = '1104 Flanagan Cove'\n",
        "lugares['(30.24, -97.82)'] = 'South Mopac Service Road'\n",
        "lugares['(30.25, -97.7)'] = '5005 Red Bluff Road'\n",
        "lugares['(30.25, -97.71)'] = 'Ann & Roy Hike & Bike Trail'\n",
        "lugares['(30.25, -97.79)'] = '2404 Kathy Cove'\n",
        "lugares['(30.25, -97.8)'] = '2901 Via Fortuna'\n",
        "lugares['(30.26, -97.7)'] = '842 Springdale Road'\n",
        "lugares['(30.26, -97.71)'] = '2793 East 7th Street'\n",
        "lugares['(30.26, -97.78)'] = '2609 Deerfoot Trail'\n",
        "lugares['(30.26, -97.8)'] = '1928 Holly Hill Drive'\n",
        "lugares['(30.26, -97.81)'] = '2517 Walsh Tarlton Lane'\n",
        "lugares['(30.27, -97.7)'] = '3201 Kay Street'\n",
        "lugares['(30.27, -97.71)'] = 'Yellow Jacket Stadium, Hargrave Street'\n",
        "lugares['(30.27, -97.78)'] = 'Arnulfo Alonso Way'\n",
        "lugares['(30.27, -97.79)'] = 'Trader Joes, 2805 Bee Caves Road'\n",
        "lugares['(30.27, -97.8)'] = '3126 Honey Tree Lane'\n",
        "lugares['(30.28, -97.69)'] = '1304 Cometa Street'\n",
        "lugares['(30.28, -97.7)'] = '3309 East 17th Street'\n",
        "lugares['(30.28, -97.71)'] = 'Platform Apartments - Building 3, 2823 East Martin Luther King Jr Boulevard'\n",
        "lugares['(30.28, -97.78)'] = '2702 Valley Spring Road'\n",
        "lugares['(30.29, -97.7)'] = '2800 Tom Miller Street'\n",
        "lugares['(30.29, -97.71)'] = '1731 East 38½ Street'\n",
        "lugares['(30.29, -97.76)'] = '2305 Newfield Lane'\n",
        "lugares['(30.29, -97.77)'] = '2507 Bridle Path'\n",
        "lugares['(30.29, -97.78)'] = 'Lions Municipal Golf Course, 2901 Enfield Road'\n",
        "lugares['(30.3, -97.7)'] = '2203 Philomena Street'\n",
        "lugares['(30.3, -97.71)'] = '4501 Rowood Road'\n",
        "lugares['(30.3, -97.75)'] = '1204 West 29th Street'\n",
        "lugares['(30.3, -97.76)'] = '41 Margranita Crescent'\n",
        "lugares['(30.3, -97.77)'] = '2907 Townes Lane'\n",
        "lugares['(30.3, -97.83)'] = 'Hotel Granduca Pool, Capital Ridge Driveway'\n",
        "lugares['(30.31, -97.69)'] = '2003 Northridge Drive'\n",
        "lugares['(30.31, -97.7)'] = '1419 Corona Drive'\n",
        "lugares['(30.31, -97.71)'] = '948 East 50th Street'\n",
        "lugares['(30.31, -97.75)'] = '3819 Jefferson Street'\n",
        "lugares['(30.31, -97.77)'] = '3005 Scenic Drive'\n",
        "lugares['(30.32, -97.68)'] = '2204 Vanderbilt Lane'\n",
        "lugares['(30.32, -97.7)'] = '1106 Clayton Lane'\n",
        "lugares['(30.32, -97.72)'] = '106 East 55th Street'\n",
        "lugares['(30.32, -97.74)'] = '2117 West 49th Street'\n",
        "lugares['(30.32, -97.75)'] = '2600 La Ronde Street'\n",
        "lugares['(30.32, -97.76)'] = '4501 Fairview Drive'\n",
        "lugares['(30.32, -97.77)'] = '3405 Westledge Circle'\n",
        "lugares['(30.33, -97.7)'] = '7100 Carver Avenue'\n",
        "lugares['(30.33, -97.71)'] = 'St. Francis School, Twin Crest Drive'\n",
        "lugares['(30.33, -97.72)'] = '600 Hammack Drive'\n",
        "lugares['(30.33, -97.73)'] = 'The Pearl, 1301 West Koenig Lane'\n",
        "lugares['(30.33, -97.74)'] = '2106 Shoalmont Drive'\n",
        "lugares['(30.34, -97.7)'] = 'North Interstate 35'\n",
        "lugares['(30.34, -97.71)'] = '7511 Meadowview Lane'\n",
        "lugares['(30.34, -97.72)'] = '7088 Easy Wind Drive'\n",
        "lugares['(30.34, -97.74)'] = '2108 White Horse Trail'\n",
        "lugares['(30.34, -97.76)'] = '3567 Ranch to Market Road 2222'\n",
        "lugares['(30.35, -97.69)'] = '919 Park Plaza'\n",
        "lugares['(30.35, -97.7)'] = '110 Oertli Lane'\n",
        "lugares['(30.35, -97.72)'] = '7804 Tisdale Drive'\n",
        "lugares['(30.35, -97.73)'] = '7516 Hardy Drive'\n",
        "lugares['(30.35, -97.75)'] = 'North Mopac Service Road'\n",
        "lugares['(30.35, -97.76)'] = '6210 Shadow Valley Drive'\n",
        "lugares['(30.36, -97.73)'] = 'Infiniti, Burnet Road'\n",
        "lugares['(30.36, -97.74)'] = '3001 West Anderson Lane'\n",
        "lugares['(30.36, -97.75)'] = '7600 Wood Hollow Drive'\n",
        "lugares['(30.37, -97.73)'] = '8608 Primrose Lane'\n",
        "lugares['(30.38, -97.74)'] = 'DoubleTree by Hilton Hotel Austin Northwest Arboretum, 8901 Business Park Drive'\n",
        "lugares['(30.39, -97.74)'] = 'Panera Bread, North Capital of Texas Highway'\n",
        "lugares['(30.39, -97.75)'] = 'Arboretum Boulevard'\n",
        "lugares['(30.4, -97.71)'] = '11700 Stonehollow Drive'\n",
        "lugares['(30.4, -97.73)'] = 'North Mopac Service Road'\n",
        "lugares['(30.4, -97.74)'] = 'Life Time, 4210 West Braker Lane'\n",
        "lugares['(30.4, -97.75)'] = 'Great Hills Park & Ride, OChester Boulevard'\n",
        "lugares['(30.41, -97.7)'] = '2015 Cedar Bend Drive'\n",
        "lugares['(30.41, -97.71)'] = '12111 Northern Walnut Creek Trail'\n",
        "lugares['(30.41, -97.72)'] = '3501 Duval Road'\n",
        "lugares['(30.43, -97.74)'] = 'Riata Trace Parkway'\n",
        "lugares['(30.14, -97.64)'] = 'Circuit of The Americas, Swiss Drive'\n",
        "lugares['(30.21, -97.66)'] = '9669 New Airport Drive'\n",
        "lugares['(30.21, -97.81)'] = '2508 Aldford Drive'\n",
        "lugares['(30.22, -97.84)'] = 'Shops at Arbor Trail'\n",
        "lugares['(30.29, -97.86)'] = 'Omni Barton Creek Resort, 8108 Barton Club Drives'\n",
        "\n",
        "df_lugares = pd.DataFrame(lugares.items(), columns=['position', 'address'])\n",
        "df_lugares.head(3)"
      ],
      "metadata": {
        "id": "NQPlPeITgvaG"
      },
      "execution_count": null,
      "outputs": []
    },
    {
      "cell_type": "code",
      "source": [
        "# Cambio las coordenadas iniciales a direccion\n",
        "\n",
        "initial_position_merged = solo_posiciones_final.merge(df_lugares, left_on='initial_position', right_on='position', how='left')\n",
        "initial_columnas_seleccionadas = ['final_position', 'address']\n",
        "\n",
        "initial_1 = initial_position_merged[initial_columnas_seleccionadas]\n",
        "initial_1 = initial_1.rename(columns={'address': 'inicio'})"
      ],
      "metadata": {
        "id": "ZTxnLwOpkZwZ"
      },
      "execution_count": null,
      "outputs": []
    },
    {
      "cell_type": "code",
      "source": [
        "# Cambio las coordenadas finales a direccion\n",
        "\n",
        "final_position_merged = initial_1.merge(df_lugares, left_on='final_position', right_on='position', how='left')\n",
        "final_columnas_seleccionadas = ['inicio', 'address']\n",
        "\n",
        "initial_2 = final_position_merged[final_columnas_seleccionadas]\n",
        "initial_2 = initial_2.rename(columns={'address': 'fin'})\n",
        "\n",
        "initial_2.head(3)"
      ],
      "metadata": {
        "id": "TGyfdwtdk6Z9"
      },
      "execution_count": null,
      "outputs": []
    },
    {
      "cell_type": "code",
      "source": [
        "# Agrupo por viaje, teniendo en cuenta la direccion inicial y final, contando cuantas veces se realizó.\n",
        "\n",
        "result = initial_2.groupby(['inicio', 'fin']).size().reset_index(name='count')\n",
        "viajes_pre_rename = result.sort_values(by='count', ascending=False)\n",
        "viajes = viajes_pre_rename.rename(columns={'count': 'cantidad_viajes'})"
      ],
      "metadata": {
        "id": "-DYvzGDglGnt"
      },
      "execution_count": null,
      "outputs": []
    },
    {
      "cell_type": "code",
      "source": [
        "viajes"
      ],
      "metadata": {
        "id": "MgmGt940lvK2"
      },
      "execution_count": null,
      "outputs": []
    },
    {
      "cell_type": "code",
      "source": [
        "# Exporto el dataset final\n",
        "viajes.to_csv('viajes.csv', index=False)"
      ],
      "metadata": {
        "id": "usNVIquTnVZD"
      },
      "execution_count": null,
      "outputs": []
    }
  ]
}