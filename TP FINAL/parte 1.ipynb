{
 "cells": [
  {
   "cell_type": "code",
   "execution_count": 1,
   "metadata": {},
   "outputs": [],
   "source": [
    "import pandas as pd\n",
    "import networkx as nx\n",
    "import matplotlib.pyplot as plt\n",
    "import matplotlib.colors as mcolors\n",
    "from numpy import linalg as LA\n",
    "from collections import defaultdict\n",
    "import numpy as np\n",
    "import random"
   ]
  },
  {
   "cell_type": "code",
   "execution_count": 144,
   "metadata": {},
   "outputs": [],
   "source": [
    "exportaciones_brasil = pd.read_csv(\"exportacao_full.csv\", index_col=None)"
   ]
  },
  {
   "cell_type": "code",
   "execution_count": 195,
   "metadata": {},
   "outputs": [],
   "source": [
    "exportaciones_brasil_2010 = exportaciones_brasil[exportaciones_brasil[\"Year\"] == 2010]"
   ]
  },
  {
   "cell_type": "code",
   "execution_count": 196,
   "metadata": {},
   "outputs": [
    {
     "data": {
      "text/html": [
       "<div>\n",
       "<style scoped>\n",
       "    .dataframe tbody tr th:only-of-type {\n",
       "        vertical-align: middle;\n",
       "    }\n",
       "\n",
       "    .dataframe tbody tr th {\n",
       "        vertical-align: top;\n",
       "    }\n",
       "\n",
       "    .dataframe thead th {\n",
       "        text-align: right;\n",
       "    }\n",
       "</style>\n",
       "<table border=\"1\" class=\"dataframe\">\n",
       "  <thead>\n",
       "    <tr style=\"text-align: right;\">\n",
       "      <th></th>\n",
       "      <th>Year</th>\n",
       "      <th>Month</th>\n",
       "      <th>Country</th>\n",
       "      <th>City</th>\n",
       "      <th>SH4 Code</th>\n",
       "      <th>SH4 Description</th>\n",
       "      <th>SH2 Code</th>\n",
       "      <th>SH2 Description</th>\n",
       "      <th>Economic Block</th>\n",
       "      <th>US$ FOB</th>\n",
       "      <th>Net Weight</th>\n",
       "    </tr>\n",
       "  </thead>\n",
       "  <tbody>\n",
       "    <tr>\n",
       "      <th>0</th>\n",
       "      <td>2010</td>\n",
       "      <td>1</td>\n",
       "      <td>Afghanistan</td>\n",
       "      <td>Itajaí - SC</td>\n",
       "      <td>207</td>\n",
       "      <td>Meat and edible offal, of the poultry of headi...</td>\n",
       "      <td>2</td>\n",
       "      <td>Meat and edible meat offal</td>\n",
       "      <td>Asia (minus MIDDLE EAST)</td>\n",
       "      <td>197162</td>\n",
       "      <td>99945</td>\n",
       "    </tr>\n",
       "    <tr>\n",
       "      <th>1</th>\n",
       "      <td>2010</td>\n",
       "      <td>1</td>\n",
       "      <td>Afghanistan</td>\n",
       "      <td>Lapa - PR</td>\n",
       "      <td>207</td>\n",
       "      <td>Meat and edible offal, of the poultry of headi...</td>\n",
       "      <td>2</td>\n",
       "      <td>Meat and edible meat offal</td>\n",
       "      <td>Asia (minus MIDDLE EAST)</td>\n",
       "      <td>114570</td>\n",
       "      <td>76989</td>\n",
       "    </tr>\n",
       "    <tr>\n",
       "      <th>2</th>\n",
       "      <td>2010</td>\n",
       "      <td>1</td>\n",
       "      <td>Afghanistan</td>\n",
       "      <td>Rolândia - PR</td>\n",
       "      <td>207</td>\n",
       "      <td>Meat and edible offal, of the poultry of headi...</td>\n",
       "      <td>2</td>\n",
       "      <td>Meat and edible meat offal</td>\n",
       "      <td>Asia (minus MIDDLE EAST)</td>\n",
       "      <td>72900</td>\n",
       "      <td>54000</td>\n",
       "    </tr>\n",
       "    <tr>\n",
       "      <th>3</th>\n",
       "      <td>2010</td>\n",
       "      <td>1</td>\n",
       "      <td>Afghanistan</td>\n",
       "      <td>São Paulo - SP</td>\n",
       "      <td>207</td>\n",
       "      <td>Meat and edible offal, of the poultry of headi...</td>\n",
       "      <td>2</td>\n",
       "      <td>Meat and edible meat offal</td>\n",
       "      <td>Asia (minus MIDDLE EAST)</td>\n",
       "      <td>153593</td>\n",
       "      <td>106541</td>\n",
       "    </tr>\n",
       "    <tr>\n",
       "      <th>4</th>\n",
       "      <td>2010</td>\n",
       "      <td>1</td>\n",
       "      <td>Afghanistan</td>\n",
       "      <td>Xaxim - SC</td>\n",
       "      <td>207</td>\n",
       "      <td>Meat and edible offal, of the poultry of headi...</td>\n",
       "      <td>2</td>\n",
       "      <td>Meat and edible meat offal</td>\n",
       "      <td>Asia (minus MIDDLE EAST)</td>\n",
       "      <td>26739</td>\n",
       "      <td>24990</td>\n",
       "    </tr>\n",
       "  </tbody>\n",
       "</table>\n",
       "</div>"
      ],
      "text/plain": [
       "   Year  Month      Country            City  SH4 Code  \\\n",
       "0  2010      1  Afghanistan     Itajaí - SC       207   \n",
       "1  2010      1  Afghanistan       Lapa - PR       207   \n",
       "2  2010      1  Afghanistan   Rolândia - PR       207   \n",
       "3  2010      1  Afghanistan  São Paulo - SP       207   \n",
       "4  2010      1  Afghanistan      Xaxim - SC       207   \n",
       "\n",
       "                                     SH4 Description  SH2 Code  \\\n",
       "0  Meat and edible offal, of the poultry of headi...         2   \n",
       "1  Meat and edible offal, of the poultry of headi...         2   \n",
       "2  Meat and edible offal, of the poultry of headi...         2   \n",
       "3  Meat and edible offal, of the poultry of headi...         2   \n",
       "4  Meat and edible offal, of the poultry of headi...         2   \n",
       "\n",
       "              SH2 Description            Economic Block  US$ FOB  Net Weight  \n",
       "0  Meat and edible meat offal  Asia (minus MIDDLE EAST)   197162       99945  \n",
       "1  Meat and edible meat offal  Asia (minus MIDDLE EAST)   114570       76989  \n",
       "2  Meat and edible meat offal  Asia (minus MIDDLE EAST)    72900       54000  \n",
       "3  Meat and edible meat offal  Asia (minus MIDDLE EAST)   153593      106541  \n",
       "4  Meat and edible meat offal  Asia (minus MIDDLE EAST)    26739       24990  "
      ]
     },
     "execution_count": 196,
     "metadata": {},
     "output_type": "execute_result"
    }
   ],
   "source": [
    "exportaciones_brasil_2010.head(5)"
   ]
  },
  {
   "cell_type": "code",
   "execution_count": 197,
   "metadata": {},
   "outputs": [
    {
     "data": {
      "text/html": [
       "<div>\n",
       "<style scoped>\n",
       "    .dataframe tbody tr th:only-of-type {\n",
       "        vertical-align: middle;\n",
       "    }\n",
       "\n",
       "    .dataframe tbody tr th {\n",
       "        vertical-align: top;\n",
       "    }\n",
       "\n",
       "    .dataframe thead th {\n",
       "        text-align: right;\n",
       "    }\n",
       "</style>\n",
       "<table border=\"1\" class=\"dataframe\">\n",
       "  <thead>\n",
       "    <tr style=\"text-align: right;\">\n",
       "      <th></th>\n",
       "      <th>Year</th>\n",
       "      <th>Month</th>\n",
       "      <th>Country</th>\n",
       "      <th>City</th>\n",
       "      <th>SH4 Code</th>\n",
       "      <th>SH4 Description</th>\n",
       "      <th>SH2 Code</th>\n",
       "      <th>SH2 Description</th>\n",
       "      <th>Economic Block</th>\n",
       "      <th>US$ FOB</th>\n",
       "      <th>Net Weight</th>\n",
       "    </tr>\n",
       "  </thead>\n",
       "  <tbody>\n",
       "    <tr>\n",
       "      <th>0</th>\n",
       "      <td>2010</td>\n",
       "      <td>1</td>\n",
       "      <td>Afghanistan</td>\n",
       "      <td>SC</td>\n",
       "      <td>207</td>\n",
       "      <td>Meat and edible offal, of the poultry of headi...</td>\n",
       "      <td>2</td>\n",
       "      <td>Meat and edible meat offal</td>\n",
       "      <td>Asia (minus MIDDLE EAST)</td>\n",
       "      <td>197162</td>\n",
       "      <td>99945</td>\n",
       "    </tr>\n",
       "    <tr>\n",
       "      <th>1</th>\n",
       "      <td>2010</td>\n",
       "      <td>1</td>\n",
       "      <td>Afghanistan</td>\n",
       "      <td>PR</td>\n",
       "      <td>207</td>\n",
       "      <td>Meat and edible offal, of the poultry of headi...</td>\n",
       "      <td>2</td>\n",
       "      <td>Meat and edible meat offal</td>\n",
       "      <td>Asia (minus MIDDLE EAST)</td>\n",
       "      <td>114570</td>\n",
       "      <td>76989</td>\n",
       "    </tr>\n",
       "    <tr>\n",
       "      <th>2</th>\n",
       "      <td>2010</td>\n",
       "      <td>1</td>\n",
       "      <td>Afghanistan</td>\n",
       "      <td>PR</td>\n",
       "      <td>207</td>\n",
       "      <td>Meat and edible offal, of the poultry of headi...</td>\n",
       "      <td>2</td>\n",
       "      <td>Meat and edible meat offal</td>\n",
       "      <td>Asia (minus MIDDLE EAST)</td>\n",
       "      <td>72900</td>\n",
       "      <td>54000</td>\n",
       "    </tr>\n",
       "    <tr>\n",
       "      <th>3</th>\n",
       "      <td>2010</td>\n",
       "      <td>1</td>\n",
       "      <td>Afghanistan</td>\n",
       "      <td>SP</td>\n",
       "      <td>207</td>\n",
       "      <td>Meat and edible offal, of the poultry of headi...</td>\n",
       "      <td>2</td>\n",
       "      <td>Meat and edible meat offal</td>\n",
       "      <td>Asia (minus MIDDLE EAST)</td>\n",
       "      <td>153593</td>\n",
       "      <td>106541</td>\n",
       "    </tr>\n",
       "    <tr>\n",
       "      <th>4</th>\n",
       "      <td>2010</td>\n",
       "      <td>1</td>\n",
       "      <td>Afghanistan</td>\n",
       "      <td>SC</td>\n",
       "      <td>207</td>\n",
       "      <td>Meat and edible offal, of the poultry of headi...</td>\n",
       "      <td>2</td>\n",
       "      <td>Meat and edible meat offal</td>\n",
       "      <td>Asia (minus MIDDLE EAST)</td>\n",
       "      <td>26739</td>\n",
       "      <td>24990</td>\n",
       "    </tr>\n",
       "  </tbody>\n",
       "</table>\n",
       "</div>"
      ],
      "text/plain": [
       "   Year  Month      Country City  SH4 Code  \\\n",
       "0  2010      1  Afghanistan   SC       207   \n",
       "1  2010      1  Afghanistan   PR       207   \n",
       "2  2010      1  Afghanistan   PR       207   \n",
       "3  2010      1  Afghanistan   SP       207   \n",
       "4  2010      1  Afghanistan   SC       207   \n",
       "\n",
       "                                     SH4 Description  SH2 Code  \\\n",
       "0  Meat and edible offal, of the poultry of headi...         2   \n",
       "1  Meat and edible offal, of the poultry of headi...         2   \n",
       "2  Meat and edible offal, of the poultry of headi...         2   \n",
       "3  Meat and edible offal, of the poultry of headi...         2   \n",
       "4  Meat and edible offal, of the poultry of headi...         2   \n",
       "\n",
       "              SH2 Description            Economic Block  US$ FOB  Net Weight  \n",
       "0  Meat and edible meat offal  Asia (minus MIDDLE EAST)   197162       99945  \n",
       "1  Meat and edible meat offal  Asia (minus MIDDLE EAST)   114570       76989  \n",
       "2  Meat and edible meat offal  Asia (minus MIDDLE EAST)    72900       54000  \n",
       "3  Meat and edible meat offal  Asia (minus MIDDLE EAST)   153593      106541  \n",
       "4  Meat and edible meat offal  Asia (minus MIDDLE EAST)    26739       24990  "
      ]
     },
     "execution_count": 197,
     "metadata": {},
     "output_type": "execute_result"
    }
   ],
   "source": [
    "exportaciones_brasil_2010.loc[:, 'City'] = exportaciones_brasil_2010.loc[:, 'City'].str.replace('.* - ', '')\n",
    "\n",
    "exportaciones_brasil_2010.head(5)"
   ]
  },
  {
   "cell_type": "code",
   "execution_count": 198,
   "metadata": {},
   "outputs": [
    {
     "data": {
      "text/html": [
       "<div>\n",
       "<style scoped>\n",
       "    .dataframe tbody tr th:only-of-type {\n",
       "        vertical-align: middle;\n",
       "    }\n",
       "\n",
       "    .dataframe tbody tr th {\n",
       "        vertical-align: top;\n",
       "    }\n",
       "\n",
       "    .dataframe thead th {\n",
       "        text-align: right;\n",
       "    }\n",
       "</style>\n",
       "<table border=\"1\" class=\"dataframe\">\n",
       "  <thead>\n",
       "    <tr style=\"text-align: right;\">\n",
       "      <th></th>\n",
       "      <th>Year</th>\n",
       "      <th>Month</th>\n",
       "      <th>Country</th>\n",
       "      <th>State</th>\n",
       "      <th>SH4 Code</th>\n",
       "      <th>SH4 Description</th>\n",
       "      <th>SH2 Code</th>\n",
       "      <th>SH2 Description</th>\n",
       "      <th>Economic Block</th>\n",
       "      <th>US$ FOB</th>\n",
       "      <th>Net Weight</th>\n",
       "    </tr>\n",
       "  </thead>\n",
       "  <tbody>\n",
       "    <tr>\n",
       "      <th>0</th>\n",
       "      <td>2010</td>\n",
       "      <td>1</td>\n",
       "      <td>Afghanistan</td>\n",
       "      <td>SC</td>\n",
       "      <td>207</td>\n",
       "      <td>Meat and edible offal, of the poultry of headi...</td>\n",
       "      <td>2</td>\n",
       "      <td>Meat and edible meat offal</td>\n",
       "      <td>Asia (minus MIDDLE EAST)</td>\n",
       "      <td>197162</td>\n",
       "      <td>99945</td>\n",
       "    </tr>\n",
       "    <tr>\n",
       "      <th>1</th>\n",
       "      <td>2010</td>\n",
       "      <td>1</td>\n",
       "      <td>Afghanistan</td>\n",
       "      <td>PR</td>\n",
       "      <td>207</td>\n",
       "      <td>Meat and edible offal, of the poultry of headi...</td>\n",
       "      <td>2</td>\n",
       "      <td>Meat and edible meat offal</td>\n",
       "      <td>Asia (minus MIDDLE EAST)</td>\n",
       "      <td>114570</td>\n",
       "      <td>76989</td>\n",
       "    </tr>\n",
       "    <tr>\n",
       "      <th>2</th>\n",
       "      <td>2010</td>\n",
       "      <td>1</td>\n",
       "      <td>Afghanistan</td>\n",
       "      <td>PR</td>\n",
       "      <td>207</td>\n",
       "      <td>Meat and edible offal, of the poultry of headi...</td>\n",
       "      <td>2</td>\n",
       "      <td>Meat and edible meat offal</td>\n",
       "      <td>Asia (minus MIDDLE EAST)</td>\n",
       "      <td>72900</td>\n",
       "      <td>54000</td>\n",
       "    </tr>\n",
       "    <tr>\n",
       "      <th>3</th>\n",
       "      <td>2010</td>\n",
       "      <td>1</td>\n",
       "      <td>Afghanistan</td>\n",
       "      <td>SP</td>\n",
       "      <td>207</td>\n",
       "      <td>Meat and edible offal, of the poultry of headi...</td>\n",
       "      <td>2</td>\n",
       "      <td>Meat and edible meat offal</td>\n",
       "      <td>Asia (minus MIDDLE EAST)</td>\n",
       "      <td>153593</td>\n",
       "      <td>106541</td>\n",
       "    </tr>\n",
       "    <tr>\n",
       "      <th>4</th>\n",
       "      <td>2010</td>\n",
       "      <td>1</td>\n",
       "      <td>Afghanistan</td>\n",
       "      <td>SC</td>\n",
       "      <td>207</td>\n",
       "      <td>Meat and edible offal, of the poultry of headi...</td>\n",
       "      <td>2</td>\n",
       "      <td>Meat and edible meat offal</td>\n",
       "      <td>Asia (minus MIDDLE EAST)</td>\n",
       "      <td>26739</td>\n",
       "      <td>24990</td>\n",
       "    </tr>\n",
       "  </tbody>\n",
       "</table>\n",
       "</div>"
      ],
      "text/plain": [
       "   Year  Month      Country State  SH4 Code  \\\n",
       "0  2010      1  Afghanistan    SC       207   \n",
       "1  2010      1  Afghanistan    PR       207   \n",
       "2  2010      1  Afghanistan    PR       207   \n",
       "3  2010      1  Afghanistan    SP       207   \n",
       "4  2010      1  Afghanistan    SC       207   \n",
       "\n",
       "                                     SH4 Description  SH2 Code  \\\n",
       "0  Meat and edible offal, of the poultry of headi...         2   \n",
       "1  Meat and edible offal, of the poultry of headi...         2   \n",
       "2  Meat and edible offal, of the poultry of headi...         2   \n",
       "3  Meat and edible offal, of the poultry of headi...         2   \n",
       "4  Meat and edible offal, of the poultry of headi...         2   \n",
       "\n",
       "              SH2 Description            Economic Block  US$ FOB  Net Weight  \n",
       "0  Meat and edible meat offal  Asia (minus MIDDLE EAST)   197162       99945  \n",
       "1  Meat and edible meat offal  Asia (minus MIDDLE EAST)   114570       76989  \n",
       "2  Meat and edible meat offal  Asia (minus MIDDLE EAST)    72900       54000  \n",
       "3  Meat and edible meat offal  Asia (minus MIDDLE EAST)   153593      106541  \n",
       "4  Meat and edible meat offal  Asia (minus MIDDLE EAST)    26739       24990  "
      ]
     },
     "execution_count": 198,
     "metadata": {},
     "output_type": "execute_result"
    }
   ],
   "source": [
    "exportaciones_brasil_2010 = exportaciones_brasil_2010.rename(columns={'City': 'State'})\n",
    "\n",
    "exportaciones_brasil_2010.head(5)"
   ]
  },
  {
   "cell_type": "code",
   "execution_count": 199,
   "metadata": {},
   "outputs": [],
   "source": [
    "grafo = nx.from_pandas_edgelist(exportaciones_brasil_2010, 'Country', 'State')"
   ]
  },
  {
   "cell_type": "code",
   "execution_count": 203,
   "metadata": {},
   "outputs": [
    {
     "name": "stdout",
     "output_type": "stream",
     "text": [
      "Los estados de origen de las exportaciones con mas exportaciones y su cantidad son: \n"
     ]
    },
    {
     "data": {
      "text/plain": [
       "SP    547461\n",
       "RS    154102\n",
       "PR     89219\n",
       "SC     89139\n",
       "MG     63610\n",
       "RJ     45666\n",
       "MS     17837\n",
       "BA     17386\n",
       "CE     11155\n",
       "ES      9952\n",
       "Name: State, dtype: int64"
      ]
     },
     "execution_count": 203,
     "metadata": {},
     "output_type": "execute_result"
    }
   ],
   "source": [
    "columna_estado = exportaciones_brasil_2010['State']\n",
    "print('Los estados de origen de las exportaciones con mas exportaciones y su cantidad son: ')\n",
    "columna_estado.value_counts().head(10)"
   ]
  },
  {
   "cell_type": "code",
   "execution_count": 204,
   "metadata": {},
   "outputs": [],
   "source": [
    "estados_2010_aux = exportaciones_brasil_2010[\"State\"]\n",
    "estados_2010 = []\n",
    "estados_2010 = estados_2010_aux.to_list()"
   ]
  },
  {
   "cell_type": "code",
   "execution_count": 205,
   "metadata": {},
   "outputs": [],
   "source": [
    "exportaciones_brasil_2010.insert(loc=len(exportaciones_brasil_2010.columns), column = 'Region',value= estados_2010)"
   ]
  },
  {
   "cell_type": "code",
   "execution_count": 206,
   "metadata": {},
   "outputs": [],
   "source": [
    "regiones = {}\n",
    "\n",
    "regiones['AC'] = 'Region Norte'\n",
    "regiones['AL'] = 'Region Nordeste'\n",
    "regiones['AP'] = 'Region Norte'\n",
    "regiones['AM'] = 'Region Norte'\n",
    "regiones['BA'] = 'Region Nordeste'\n",
    "regiones['CE'] = 'Region Nordeste'\n",
    "regiones['ES'] = 'Region Sudeste'\n",
    "regiones['EX'] = 'Region Sudeste'\n",
    "regiones['GO'] = 'Region Centro Oeste'\n",
    "regiones['MA'] = 'Region Nordeste'\n",
    "regiones['MG'] = 'Region Sudeste'\n",
    "regiones['MS'] = 'Region Centro Oeste'\n",
    "regiones['MT'] = 'Region Centro Oeste'\n",
    "regiones['ND'] = 'Region Centro Oeste'\n",
    "regiones['PA'] = 'Region Norte'\n",
    "regiones['PB'] = 'Region Nordeste'\n",
    "regiones['PE'] = 'Region Nordeste'\n",
    "regiones['PI'] = 'Region Nordeste'\n",
    "regiones['PR'] = 'Region Sur'\n",
    "regiones['RJ'] = 'Region Sudeste'\n",
    "regiones['RN'] = 'Region Nordeste'\n",
    "regiones['RS'] = 'Region Sur'\n",
    "regiones['RO'] = 'Region Norte'\n",
    "regiones['RR'] = 'Region Norte'\n",
    "regiones['SC'] = 'Region Sur'\n",
    "regiones['SP'] = 'Region Sudeste'\n",
    "regiones['SE'] = 'Region Nordeste'\n",
    "regiones['TO'] = 'Region Norte'\n",
    "regiones['DF'] = 'Region Centro Oeste'"
   ]
  },
  {
   "cell_type": "code",
   "execution_count": 207,
   "metadata": {},
   "outputs": [],
   "source": [
    "exportaciones_brasil_2010.loc[:, 'Region'] = exportaciones_brasil_2010.loc[:, 'Region'].replace(regiones, regex=True)"
   ]
  },
  {
   "cell_type": "code",
   "execution_count": 210,
   "metadata": {},
   "outputs": [
    {
     "data": {
      "text/plain": [
       "True"
      ]
     },
     "execution_count": 210,
     "metadata": {},
     "output_type": "execute_result"
    }
   ],
   "source": [
    "nx.is_connected(grafo)"
   ]
  },
  {
   "cell_type": "code",
   "execution_count": 211,
   "metadata": {},
   "outputs": [
    {
     "name": "stdout",
     "output_type": "stream",
     "text": [
      "('El diametro de la red es', 4)\n"
     ]
    }
   ],
   "source": [
    "print(\"El diametro de la red es\", nx.diameter(grafo))"
   ]
  },
  {
   "cell_type": "code",
   "execution_count": 212,
   "metadata": {},
   "outputs": [
    {
     "name": "stdout",
     "output_type": "stream",
     "text": [
      "('El grado promedio de la red es', 22.0)\n"
     ]
    }
   ],
   "source": [
    "\"\"\"\n",
    "algoritmo sacado de:\n",
    "https://github.com/mbuchwald\n",
    "\"\"\"\n",
    "\n",
    "def grado_promedio(grafo):\n",
    "    total = 0\n",
    "    for v in grafo:\n",
    "        total += len(list(grafo.neighbors(v)))\n",
    "    return total / len(grafo)\n",
    "\n",
    "grado_promedio_grafo = round(grado_promedio(grafo), 2)\n",
    "print(\"El grado promedio de la red es\", grado_promedio_grafo)"
   ]
  }
 ],
 "metadata": {
  "kernelspec": {
   "display_name": "Python 3",
   "language": "python",
   "name": "python3"
  },
  "language_info": {
   "codemirror_mode": {
    "name": "ipython",
    "version": 2
   },
   "file_extension": ".py",
   "mimetype": "text/x-python",
   "name": "python",
   "nbconvert_exporter": "python",
   "pygments_lexer": "ipython2",
   "version": "2.7.18"
  },
  "vscode": {
   "interpreter": {
    "hash": "e55666fbbf217aa3df372b978577f47b6009e2f78e2ec76a584f49cd54a1e62c"
   }
  }
 },
 "nbformat": 4,
 "nbformat_minor": 4
}
